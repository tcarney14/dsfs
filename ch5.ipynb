{
 "cells": [
  {
   "cell_type": "markdown",
   "id": "8abf2d2f-a1ab-40ba-8d5e-99ea63f0b81c",
   "metadata": {},
   "source": [
    "# Statistics"
   ]
  },
  {
   "cell_type": "markdown",
   "id": "02f139f6-a6ad-4b76-b791-30b84aec7a96",
   "metadata": {},
   "source": [
    "### Describing a Single Set of Data"
   ]
  },
  {
   "cell_type": "markdown",
   "id": "4cc47753-3194-4c3e-b9c7-98e8ac07bb71",
   "metadata": {},
   "source": [
    "* A simple approach is to plot a histogram\n",
    "* can also look at the number of data points - **len(data)**\n",
    "* may be interested in the min and max - **min(data), max(data)**"
   ]
  },
  {
   "cell_type": "markdown",
   "id": "0d5e5545-1735-4bbf-a9e9-276d4a869d8a",
   "metadata": {},
   "source": [
    "### Central Tendencies"
   ]
  },
  {
   "cell_type": "markdown",
   "id": "2ed82687-ad6a-4659-b220-a2534fdd6244",
   "metadata": {},
   "source": [
    "* the *mean* (or average) is the sum of the data divided by its count\n",
    "* if you have 2 data points, the mean is simply the point halfway between them\n",
    "* the *median* is the middlemost value (if the # of data points is odd) or the average of the two middle most values (if the # is even)"
   ]
  },
  {
   "cell_type": "code",
   "execution_count": 12,
   "id": "fe54318b-c3a8-46ba-8aef-6b3c7f646f74",
   "metadata": {},
   "outputs": [],
   "source": [
    "from typing import List\n",
    "\n",
    "def mean(xs: List[float]) -> float:\n",
    "    return sum(xs) / len(xs)\n",
    "\n",
    "def _median_odd(xs: List[float]) -> float:\n",
    "    return sorted(xs)[len(xs) // 2]\n",
    "\n",
    "def _median_even(xs: List[float]) -> float:\n",
    "    sorted_xs = sorted(xs)\n",
    "    hi_midpoint = len(xs) // 2\n",
    "    return (sorted_xs[hi_midpoint - 1] + sorted_xs[hi_midpoint]) / 2"
   ]
  },
  {
   "cell_type": "markdown",
   "id": "0aba0799-e611-41a6-889a-857efc3bbe01",
   "metadata": {},
   "source": [
    "* if we have *n* data points, and one of them increases by a small amount *e*, the mean will increase by *e / n*"
   ]
  },
  {
   "cell_type": "markdown",
   "id": "5abe3e29-76d4-4f63-bd4d-eabe3861ba2e",
   "metadata": {},
   "source": [
    "* a generalization of the median is the *quantile*, which represents the value under which a certain percentile of the data lies (the median represents the value under which 50% of the data lies)"
   ]
  },
  {
   "cell_type": "code",
   "execution_count": 8,
   "id": "c556c3fd-8c35-4e1f-b785-a05382df8d0e",
   "metadata": {},
   "outputs": [],
   "source": [
    "def quantile(xs: List[float], p: float) -> float:\n",
    "    \"\"\"Returns the pth-percentile value in x\"\"\"\n",
    "    p_index = int(p * len(xs))\n",
    "    return sorted(xs)[p_index]"
   ]
  },
  {
   "cell_type": "code",
   "execution_count": 9,
   "id": "f8bf054d-71be-42ed-9f7e-13b3db37db10",
   "metadata": {},
   "outputs": [],
   "source": [
    "def mode(x: List[float]) -> List[float]:\n",
    "    \"\"\" Returns a list, since there may be more than one mode \"\"\"\n",
    "    counts = Counter(x)\n",
    "    max_count = max(counts.values())\n",
    "    return [x_i for x_i, count in counts.items()\n",
    "            if count == max_count]"
   ]
  },
  {
   "cell_type": "markdown",
   "id": "67f52a32-86d8-4021-abc4-95f3c9f85d5a",
   "metadata": {},
   "source": [
    "### Dispersion"
   ]
  },
  {
   "cell_type": "markdown",
   "id": "4f4455c1-a995-443f-a16b-dd474ab2f554",
   "metadata": {},
   "source": [
    "*Dispersion* refers to measures of how spread out our data is. \n",
    "* A simple measure is the *range*, which is just the difference between the max and the min\n",
    "* A more complex measure is the *variance* which is computed as:"
   ]
  },
  {
   "cell_type": "code",
   "execution_count": 11,
   "id": "12234c08-dc15-4ad5-9717-65f1e8199354",
   "metadata": {},
   "outputs": [],
   "source": [
    "from ipynb.fs.full.ch4 import sum_of_squares"
   ]
  },
  {
   "cell_type": "code",
   "execution_count": 13,
   "id": "0a06b109-b897-46e8-9f75-337359425c24",
   "metadata": {},
   "outputs": [],
   "source": [
    "def de_mean(xs: List[float]) -> List[float]:\n",
    "    \"\"\"Translate xs by subtracting its mean (so the result has mean 0)\"\"\"\n",
    "    x_bar = mean(xs)\n",
    "    return [x - x_bar for x in xs]"
   ]
  },
  {
   "cell_type": "code",
   "execution_count": 14,
   "id": "f4ddbb6e-2a5d-4700-8918-5c772b641449",
   "metadata": {},
   "outputs": [],
   "source": [
    "def variance(xs: List[float]) -> float:\n",
    "    \"\"\" Almost the average squared deviateion from the mean \"\"\"\n",
    "    assert len(xs) >= 2, \"variance requires at least two elements\"\n",
    "    \n",
    "    n = len(xs)\n",
    "    deviations = de_mean(xs)\n",
    "    return sum_of_squares(deviations) / (n - 1)"
   ]
  },
  {
   "cell_type": "markdown",
   "id": "860ad08b-efc0-45c2-a320-4b8d854dce6a",
   "metadata": {},
   "source": [
    "This looks like it is almost the average squared deviation from the mean, except that we're dividing by **n - 1** instead of **n**. In fact, when we're dealing with a sample from a larger population, **x_bar** is only an *estimate* of the actual mean, which means that on average **(x_i - x_bar)^2** is an underestimate of **x_i**'s squared deviation from the mean, which is why we divide by **n - 1** instead of **n** (wikipedia: unbiased estimation of standard deviation)"
   ]
  },
  {
   "cell_type": "markdown",
   "id": "736238b7-a53a-47eb-8fd4-bea524705ffc",
   "metadata": {},
   "source": [
    "* the *variance* is in units squared, which can be hard to interpret\n",
    "* for that reason, we often use the *standard deviation*"
   ]
  },
  {
   "cell_type": "code",
   "execution_count": 15,
   "id": "dc687601-e6f4-483a-855a-36f9591a9ef2",
   "metadata": {},
   "outputs": [],
   "source": [
    "import math\n",
    "\n",
    "def standard_deviation(xs: List[float]) -> float:\n",
    "    \"\"\"The standard deviation is the square root of the variance\"\"\"\n",
    "    return math.sqrt(variance(xs))"
   ]
  },
  {
   "cell_type": "markdown",
   "id": "a340a17d-54cf-4ba2-b9eb-a07abe2e93e9",
   "metadata": {},
   "source": [
    "* an alternative measure more robust to extreme outliers is the **interquartile range**"
   ]
  },
  {
   "cell_type": "code",
   "execution_count": 16,
   "id": "9702bfd4-d1a0-4a03-bab0-32af76949b5b",
   "metadata": {},
   "outputs": [],
   "source": [
    "def interquartile_range(xs: List[float]) -> float:\n",
    "    \"\"\"Returns the difference between the 75%-ile and the 25%-ile\"\"\"\n",
    "    return quantile(xs, 0.75) - quantile(xs, 0.25)"
   ]
  },
  {
   "cell_type": "markdown",
   "id": "f216040e-7780-4b69-b39c-3bf1d95966a3",
   "metadata": {},
   "source": [
    "### Correlation"
   ]
  },
  {
   "cell_type": "markdown",
   "id": "e6bd1563-8d24-4fcf-b63f-b69e87e23096",
   "metadata": {},
   "source": [
    "*covariance* is the paired analogue of variance. Whereas variance measures how a single variable deviates from its mean, covariance measures how two variables vary in tandem from their means:"
   ]
  },
  {
   "cell_type": "code",
   "execution_count": 18,
   "id": "160515e2-587a-479e-af03-9a2c7f63c7cb",
   "metadata": {},
   "outputs": [],
   "source": [
    "from ipynb.fs.full.ch4 import dot"
   ]
  },
  {
   "cell_type": "code",
   "execution_count": 19,
   "id": "170e30a3-85cb-4de3-8960-3588b58ce077",
   "metadata": {},
   "outputs": [],
   "source": [
    "def covariance(xs: List[float], ys: List[float]) -> float:\n",
    "    assert len(xs) == len(ys), \"xs and ys must have the same number of elements\"\n",
    "    \n",
    "    return dot(de_mean(xs), de_mean(ys)) / (len(xs) - 1)"
   ]
  },
  {
   "cell_type": "markdown",
   "id": "21e1470a-a1fe-4f0d-a90d-18c7b0035606",
   "metadata": {},
   "source": [
    "Recall that **dot** sums up the products of corresponding pairs of elements. When corresponding elements of x and y are either both above their means or both below their means, a positive number enters the sum. When one is above its mean and the other below, a negative number neters the sum. Accordingly, a \"large\" positive covariance means that x tends to be large when y is large and small when y is small. A \"large\" negative covariance means the opposite. A covariance close to zero means that no such relationship exists."
   ]
  },
  {
   "cell_type": "markdown",
   "id": "89d2c633-bc98-4f0a-9b2b-997f8dc55c4f",
   "metadata": {},
   "source": [
    "This number can be hard to interpret for a couple of reasons:\n",
    "* its units are the product of the inputs' units, which can be hard to make sense of\n",
    "* if each user had twice as many friends, the covariance would be twice as large, but in a sense, the variables would be just as interrelated"
   ]
  },
  {
   "cell_type": "markdown",
   "id": "9f4d32cf-5168-4a32-b31c-2b0cf6c7f8dc",
   "metadata": {},
   "source": [
    "For this reason, it's more common to look at the *correlation*, which divides out the standard deviation of both variables:"
   ]
  },
  {
   "cell_type": "code",
   "execution_count": 20,
   "id": "48c9313f-4cc0-44a2-9853-aa567cc9f78d",
   "metadata": {},
   "outputs": [],
   "source": [
    "def correlation(xs: List[float], ys: List[float]) -> float:\n",
    "    \"\"\"Measures how much xs and ys vary in tandem about their means\"\"\"\n",
    "    stdev_x = standard_deviation(xs)\n",
    "    stdev_y = standard_deviation(ys)\n",
    "    if stdev_x > 0 and stdev_y > 0:\n",
    "        return covariance(xs, ys) / stdev_x / stdev_y\n",
    "    else:\n",
    "        return 0"
   ]
  },
  {
   "cell_type": "markdown",
   "id": "89c5c10f-3845-4894-93c2-f43e103dfb82",
   "metadata": {},
   "source": [
    "* the correlation is unitless and always lies between -1 (perfect anticorrelation) and 1 (perfect correlation)\n",
    "* a number like 0.25 represents a relatively weak positive correlation\n",
    "* correlations can be very sensitive to outliers. if you remove them, you may find a stronger correlation"
   ]
  },
  {
   "cell_type": "markdown",
   "id": "a892136b-064d-4e0b-9633-8c0a3b911b8f",
   "metadata": {},
   "source": [
    "### Simpson's Paradox"
   ]
  },
  {
   "cell_type": "markdown",
   "id": "1f965624-f2d2-49d7-8850-b051def2eedb",
   "metadata": {},
   "source": [
    "* *Simpson's Paradox* says correlations can be misleading when *confounding* variables are ignored\n",
    "* correlation measures the relationship between two variables *all else being equal*"
   ]
  },
  {
   "cell_type": "markdown",
   "id": "af2b7453-78ca-4697-8c77-b2d0ca2f89a4",
   "metadata": {},
   "source": [
    "### Other Correlational Caveats"
   ]
  },
  {
   "cell_type": "markdown",
   "id": "9cb21aff-1345-484b-9284-86fcef124abb",
   "metadata": {},
   "source": [
    "* a correlation of zero indicates that there is no linear relationship between the two variables\n",
    "* however, there may be other sorts of relationships. For example, if:"
   ]
  },
  {
   "cell_type": "code",
   "execution_count": 23,
   "id": "99d0df1c-ace6-4fcc-8735-3f50c9bcf7a0",
   "metadata": {},
   "outputs": [],
   "source": [
    "x = [-2, -1, 0, 1, 2]\n",
    "y = [2, 1, 0, 1, 2]"
   ]
  },
  {
   "cell_type": "markdown",
   "id": "86d852c7-e948-4fa7-9895-a56e70e826f0",
   "metadata": {},
   "source": [
    "* then x and y have zero correlation\n",
    "* but they certainly have a relationship: **y = abs(x)**"
   ]
  },
  {
   "cell_type": "markdown",
   "id": "97d9d2b7-88b3-441d-8f3d-320e554fab0d",
   "metadata": {},
   "source": [
    "* in addition. correlation tells you nothing about how large the relationship is. The variables:"
   ]
  },
  {
   "cell_type": "code",
   "execution_count": 24,
   "id": "e32caed3-7da4-49d4-a442-b529b5118d7f",
   "metadata": {},
   "outputs": [],
   "source": [
    "x = [-2, -1, 0, 1, 2]\n",
    "y = [99.98, 99.99, 100, 100.01, 100.02]"
   ]
  },
  {
   "cell_type": "markdown",
   "id": "5530b93d-b444-453c-ba85-76dcd0368810",
   "metadata": {},
   "source": [
    "* are perfectly correlated, but (depending on what you're measuring) its possible this relationship isn't very interesting"
   ]
  },
  {
   "cell_type": "markdown",
   "id": "d65c80e9-188f-47d4-8f35-0116d61c3bd4",
   "metadata": {},
   "source": [
    "### Correlation and Causation"
   ]
  },
  {
   "cell_type": "markdown",
   "id": "34a229c0-9a76-4d02-970a-789ab3a92927",
   "metadata": {},
   "source": [
    "if **x** and **y** are strongly correlated this might mean\n",
    "* **x** causes **y**\n",
    "* **y** causes **x**\n",
    "* each causes the other\n",
    "* some other third factor causes both\n",
    "* nothing at all"
   ]
  },
  {
   "cell_type": "code",
   "execution_count": null,
   "id": "2a6833aa-9721-4120-9acb-4dc45cb9b18c",
   "metadata": {},
   "outputs": [],
   "source": []
  }
 ],
 "metadata": {
  "kernelspec": {
   "display_name": "Python 3 (ipykernel)",
   "language": "python",
   "name": "python3"
  },
  "language_info": {
   "codemirror_mode": {
    "name": "ipython",
    "version": 3
   },
   "file_extension": ".py",
   "mimetype": "text/x-python",
   "name": "python",
   "nbconvert_exporter": "python",
   "pygments_lexer": "ipython3",
   "version": "3.10.9"
  }
 },
 "nbformat": 4,
 "nbformat_minor": 5
}

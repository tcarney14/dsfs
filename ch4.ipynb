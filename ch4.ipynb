{
 "cells": [
  {
   "cell_type": "markdown",
   "id": "969c9234-83c5-4a39-a3b3-5b6135b4a83a",
   "metadata": {},
   "source": [
    "# Linear Algebra"
   ]
  },
  {
   "cell_type": "markdown",
   "id": "839bfd25-fd5d-4154-b37a-bee632d840be",
   "metadata": {},
   "source": [
    "the branch of mathematics that deals with *vector spaces*"
   ]
  },
  {
   "cell_type": "markdown",
   "id": "2ccf6c04-6e37-452b-9df8-7b7a699b185a",
   "metadata": {},
   "source": [
    "### Vectors"
   ]
  },
  {
   "cell_type": "markdown",
   "id": "25ea99da-4b51-468e-953d-819a9053a363",
   "metadata": {},
   "source": [
    "* abstractly, *vectors* are objects that can be added together to form new vectors and that can be multiplied by *scalars* (i.e. numbers), also to form new vectors\n",
    "* concretely, vectors are points in some finite-dimensional space"
   ]
  },
  {
   "cell_type": "markdown",
   "id": "e0d96102-bce1-4490-bcf6-46940574f61b",
   "metadata": {},
   "source": [
    "* For example, if you have the heights, weights and ages of large number of people, you can treat your data as three-dimensional vectors **[height, weight, age]**\n",
    "* If you're teaching a class with four exams, you can treat student grades as four-dimensional vectors **[exam1, exam2, exam3, exam4]**"
   ]
  },
  {
   "cell_type": "markdown",
   "id": "b53f14b6-a44d-4766-b4b4-c222caaee18c",
   "metadata": {},
   "source": [
    "In Python, vectors can be represented as lists"
   ]
  },
  {
   "cell_type": "code",
   "execution_count": 1,
   "id": "95357f01-7ff3-4706-86d1-81b7618544fa",
   "metadata": {},
   "outputs": [],
   "source": [
    "from typing import List\n",
    "\n",
    "Vector = List[float]\n",
    "\n",
    "height_weight_age = [70,  # inches\n",
    "                     170, # pounds\n",
    "                     40]  # years\n",
    "\n",
    "grades = [95, # exam1\n",
    "          80, # exam2\n",
    "          75, # exam3\n",
    "          62] # exam4"
   ]
  },
  {
   "cell_type": "markdown",
   "id": "95f7d21f-b560-4aba-b89f-6966aee8fa78",
   "metadata": {},
   "source": [
    "To perform *arithmetic*, we'll need to build these tools (since Python lists aren't vectors so they don't have this functionality)\n",
    "* Vectors add *componentwise*. This means if two vectors **v** and **w** are the same length, their sum is the vector whose first element is **v[0] + w[0]**, whose second element is **v[1] + w[1]**, and so on\n",
    "* if vectors are not the same length we cannot add them"
   ]
  },
  {
   "cell_type": "code",
   "execution_count": 2,
   "id": "b9f9a25c-763d-4b08-b939-179e6bf6914c",
   "metadata": {},
   "outputs": [],
   "source": [
    "def add(v: Vector, w: Vector) -> Vector:\n",
    "    \"\"\"Adds corresponding elements\"\"\"\n",
    "    assert len(v) == len(w), \"vectors must be the same length\"\n",
    "    return [v_i + w_i for v_i, w_i in zip(v, w)]"
   ]
  },
  {
   "cell_type": "code",
   "execution_count": 3,
   "id": "9321a785-0237-4716-abef-ee8aed49f7ff",
   "metadata": {},
   "outputs": [],
   "source": [
    "assert add([1, 2, 3], [4, 5, 6]) == [5, 7, 9]"
   ]
  },
  {
   "cell_type": "code",
   "execution_count": 4,
   "id": "fd2e7735-83c5-4cc3-bb4f-7e8d4dfb4bbe",
   "metadata": {},
   "outputs": [],
   "source": [
    "def subtract(v: Vector, w: Vector) -> Vector:\n",
    "    \"\"\"Subtracts corresponding elements\"\"\"\n",
    "    assert len(v) == len(w), \"vectors must be the same length\"\n",
    "    return [v_i - w_i for v_i, w_i in zip(v, w)]"
   ]
  },
  {
   "cell_type": "code",
   "execution_count": 5,
   "id": "afe4b18f-2d0a-4718-b45c-282f87af0544",
   "metadata": {},
   "outputs": [],
   "source": [
    "assert subtract([5, 7, 9], [4, 5, 6]) == [1, 2, 3]"
   ]
  },
  {
   "cell_type": "markdown",
   "id": "483efff6-397a-492c-a161-c0b73a693975",
   "metadata": {},
   "source": [
    "We'll also sometimes want to componentwise sum a list of vectors"
   ]
  },
  {
   "cell_type": "code",
   "execution_count": 8,
   "id": "72aef106-4622-4aa3-ab0e-1cba52e01174",
   "metadata": {},
   "outputs": [],
   "source": [
    "def vector_sum(vectors: List[Vector]) -> Vector:\n",
    "    \"\"\"Sums all the corresponding elements\"\"\"\n",
    "    # Check that vectors is not empty\n",
    "    assert vectors, \"no vectors provided!\"\n",
    "    \n",
    "    # Check the vectors are all the same size\n",
    "    num_elements = len(vectors[0])\n",
    "    assert all(len(v) == num_elements for v in vectors), \"different sizes!\"\n",
    "    \n",
    "    #the i-th element of the result is the sum of every vector[i]\n",
    "    return [sum(vector[i] for vector in vectors)\n",
    "            for i in range(num_elements)]"
   ]
  },
  {
   "cell_type": "code",
   "execution_count": 9,
   "id": "7a6ed808-2c53-4b87-9c6c-2d9882a413d1",
   "metadata": {},
   "outputs": [],
   "source": [
    "assert vector_sum([[1, 2], [3, 4], [5, 6], [7, 8]]) == [16, 20]"
   ]
  },
  {
   "cell_type": "markdown",
   "id": "26632a71-381e-47ab-aab0-30a4939ba00b",
   "metadata": {},
   "source": [
    "We also want to multiply a vector by a scalar, which we do by multiplying each element of the vector by that number:"
   ]
  },
  {
   "cell_type": "code",
   "execution_count": 10,
   "id": "969e55c6-515c-4dc5-b3c8-1b7a86cbcbca",
   "metadata": {},
   "outputs": [],
   "source": [
    "def scalar_multiply(c: float, v: Vector) -> Vector:\n",
    "    \"\"\"Multiplies every element by c\"\"\"\n",
    "    return [c * v_i for v_i in v]"
   ]
  },
  {
   "cell_type": "code",
   "execution_count": 11,
   "id": "9ea26955-7117-488e-852e-08a99d153d1e",
   "metadata": {},
   "outputs": [],
   "source": [
    "assert scalar_multiply(2, [1, 2, 3]) == [2, 4, 6]"
   ]
  },
  {
   "cell_type": "markdown",
   "id": "49ea4e76-66cd-4c79-81ae-a0992b19a403",
   "metadata": {},
   "source": [
    "This allows us to compute the componentwise means of a list of (same-sized) vectors:"
   ]
  },
  {
   "cell_type": "code",
   "execution_count": 12,
   "id": "96a817de-9a52-47b6-94b9-aa03fb727e4f",
   "metadata": {},
   "outputs": [],
   "source": [
    "def vector_mean(vectors: List[Vector]) -> Vector:\n",
    "    \"\"\"Computes the element-wise average\"\"\"\n",
    "    n = len(vectors)\n",
    "    return scalar_multiply(1/n, vector_sum(vectors))"
   ]
  },
  {
   "cell_type": "code",
   "execution_count": 13,
   "id": "3724cd72-1adc-45fd-bfcc-10f69a8c852d",
   "metadata": {},
   "outputs": [],
   "source": [
    "assert vector_mean([[1, 2], [3, 4], [5, 6]]) == [3, 4]"
   ]
  },
  {
   "cell_type": "markdown",
   "id": "52c41478-827a-4d79-ac1b-89cd23319fb6",
   "metadata": {},
   "source": [
    "The *dot product* of two vectors is the sum of their componentwise products:"
   ]
  },
  {
   "cell_type": "code",
   "execution_count": 14,
   "id": "65479842-e9bc-45a1-8953-ba36f898821b",
   "metadata": {},
   "outputs": [],
   "source": [
    "def dot(v: Vector, w: Vector) -> float:\n",
    "    \"\"\"Computes v_1 * w_1 + ... + v_n * w_n\"\"\"\n",
    "    assert len(v) == len(w), \"vectors must be same length\"\n",
    "    \n",
    "    return sum(v_i * w_i for v_i, w_i in zip(v, w))"
   ]
  },
  {
   "cell_type": "code",
   "execution_count": 15,
   "id": "5901077c-e958-498c-8553-6701836cf0c5",
   "metadata": {},
   "outputs": [],
   "source": [
    "assert dot([1, 2, 3], [4, 5, 6]) == 32  # 1 * 4 + 2 * 5 + 3 * 6"
   ]
  },
  {
   "cell_type": "markdown",
   "id": "278102e2-386f-4d7a-bb03-62f950de74f4",
   "metadata": {},
   "source": [
    "* If **w** has magnitude 1, the dot product measures how far the **v** extends in the **w** direction. For example, if **w = [1, 0], then **dot(v, w)** is just the first component of **v**.\n",
    "* Another way of saying it is that it's the length of the vector you'd get if you *projected* **v** onto **w**"
   ]
  },
  {
   "cell_type": "markdown",
   "id": "0c2768ad-e49e-416a-8523-15826026b9a5",
   "metadata": {},
   "source": [
    "Using this, it's easy to compute a vector's *sum of squares*:"
   ]
  },
  {
   "cell_type": "code",
   "execution_count": 17,
   "id": "6ee82ae8-8042-4931-899c-e5f6bceeae8b",
   "metadata": {},
   "outputs": [],
   "source": [
    "def sum_of_squares(v: Vector) -> float:\n",
    "    \"\"\"Returns v_1 * v_1 + ... + v_n * v_n\"\"\"\n",
    "    return dot(v, v)"
   ]
  },
  {
   "cell_type": "code",
   "execution_count": 18,
   "id": "02832d83-bcc4-430b-9648-fbc7ff87ef5e",
   "metadata": {},
   "outputs": [],
   "source": [
    "assert sum_of_squares([1, 2, 3]) == 14 # 1 * 1 + 2 * 2 + 3 * 3"
   ]
  },
  {
   "cell_type": "markdown",
   "id": "1177de3a-a257-444d-8714-fb8ef522eb4f",
   "metadata": {},
   "source": [
    "Which we can use to compute its *magnitude* (or length):"
   ]
  },
  {
   "cell_type": "code",
   "execution_count": 19,
   "id": "272b0c0b-2f5e-42f0-8883-44c11a4d0f46",
   "metadata": {},
   "outputs": [],
   "source": [
    "import math\n",
    "\n",
    "def magnitude(v: Vector) -> float:\n",
    "    \"\"\"Returns the magnitude (or length) of v\"\"\"\n",
    "    return math.sqrt(sum_of_squares(v))"
   ]
  },
  {
   "cell_type": "code",
   "execution_count": 20,
   "id": "f03b2d5f-1be3-4ebf-b3d4-72f3a1e27f72",
   "metadata": {},
   "outputs": [],
   "source": [
    "assert magnitude([3, 4]) == 5"
   ]
  },
  {
   "cell_type": "markdown",
   "id": "a39dd2e4-5e17-4c0a-b677-b2e435e9e7c3",
   "metadata": {},
   "source": [
    "We now have all the pieces we need to compute the distance between two vectors:"
   ]
  },
  {
   "cell_type": "markdown",
   "id": "7f255b11-4e8c-40bd-aa27-b8ec7dcb7eae",
   "metadata": {},
   "source": [
    "* $\\sqrt{(v_1 - w_1)^2 + ... + (v_n - w_n)^2}$"
   ]
  },
  {
   "cell_type": "markdown",
   "id": "6a575aa0-c259-4f65-a388-c8f091acc22a",
   "metadata": {},
   "source": [
    "In code:"
   ]
  },
  {
   "cell_type": "code",
   "execution_count": 23,
   "id": "1d4e0197-1f2f-4284-8dbc-3f3e698b1d44",
   "metadata": {},
   "outputs": [],
   "source": [
    "def squared_distance(v: Vector, w: Vector) -> float:\n",
    "    \"\"\"Computes (v_1 - w_1) ** 2 + ... + (v_n - w_n) ** 2\"\"\"\n",
    "    return sum_of_squares(subtract(v, w))\n",
    "\n",
    "def distance(v: Vector, w: Vector) -> float:\n",
    "    return math.sqrt(square_distance(v, w))"
   ]
  },
  {
   "cell_type": "markdown",
   "id": "3fd42e35-86e2-41d0-ad4d-8fc08a653f65",
   "metadata": {},
   "source": [
    "Equivalently: "
   ]
  },
  {
   "cell_type": "code",
   "execution_count": 24,
   "id": "587dfef2-c3d7-4986-ab60-e0df56869a4a",
   "metadata": {},
   "outputs": [],
   "source": [
    "def distance(v: Vector, w: Vector) -> float:\n",
    "    return magnitude(subtract(v, w))"
   ]
  },
  {
   "cell_type": "markdown",
   "id": "e838a7ac-5a09-4243-8db4-5bf762ea0ed6",
   "metadata": {},
   "source": [
    "* use NumPy array class to represent vectors for high-performance code"
   ]
  },
  {
   "cell_type": "markdown",
   "id": "52b75211-6936-41df-b117-4d97b9a40605",
   "metadata": {},
   "source": [
    "### Matrices"
   ]
  },
  {
   "cell_type": "markdown",
   "id": "67110ada-aaac-4e54-98cb-adb6ae756f9a",
   "metadata": {},
   "source": [
    "A *matrix* is a two-dimensional collection of numbers"
   ]
  },
  {
   "cell_type": "markdown",
   "id": "b9d9f0b4-3d8a-46d3-84ab-981cfdcf3c4a",
   "metadata": {},
   "source": [
    "* we will use lists of lists to represent matrices, with each inner list having the same size and representing a *row* of the matrix\n",
    "* if **A** is a matrix, then **A[i][j]** is the element in the *i*th row and the *j*th column\n",
    "* Per mathematical convention, we will frequently use capital letters to represent matrices"
   ]
  },
  {
   "cell_type": "code",
   "execution_count": 25,
   "id": "03ce9676-6bd4-43a5-a05d-54d962f872f9",
   "metadata": {},
   "outputs": [],
   "source": [
    "# Another type alias\n",
    "Matrix = List[List[float]]\n",
    "\n",
    "A = [[1, 2, 3],  # A has 2 rows and 3 columns\n",
    "     [4, 5, 6]]\n",
    "\n",
    "B = [[1, 2],     # B has 3 rows and 2 columns\n",
    "     [3, 4],\n",
    "     [5, 6]]"
   ]
  },
  {
   "cell_type": "markdown",
   "id": "127594b9-f9b8-4919-95ed-fae5c4f40e73",
   "metadata": {},
   "source": [
    "* in this representation, the matrix A has **len(A)** rows and **len(A[0])** columns, which we consider its **shape**"
   ]
  },
  {
   "cell_type": "code",
   "execution_count": 27,
   "id": "750e57f3-2a36-43e0-a396-d672fa5b0438",
   "metadata": {},
   "outputs": [],
   "source": [
    "from typing import Tuple\n",
    "\n",
    "def shape(A: Matrix) -> Tuple[int, int]:\n",
    "    \"\"\"Returns (# of rows, # of columns of A)\"\"\"\n",
    "    num_rows = len(A)\n",
    "    num_cols = len(A[0]) if A else 0  # number of elements in first row\n",
    "    return num_rows, num_cols"
   ]
  },
  {
   "cell_type": "code",
   "execution_count": 28,
   "id": "d8c1a554-35c2-4217-8386-a7c5ffa109c6",
   "metadata": {},
   "outputs": [],
   "source": [
    "assert shape([[1, 2, 3], [4, 5, 6]]) == (2, 3)  # 2 rows, 3 columns"
   ]
  },
  {
   "cell_type": "markdown",
   "id": "8d1068b8-4f6f-4eb7-9f2f-acbb43371a33",
   "metadata": {},
   "source": [
    "For an *n x k* matrix, we can think of each row as a vector of length *k* and each column as a vector of length *n*"
   ]
  },
  {
   "cell_type": "code",
   "execution_count": 29,
   "id": "46318bc9-7dfa-4bff-9f80-135e3303b67a",
   "metadata": {},
   "outputs": [],
   "source": [
    "def get_row(A: Matrix, i: int) -> Vector:\n",
    "    \"\"\"Returns the i-th row of A (as a Vector)\"\"\"\n",
    "    return A[i]\n",
    "\n",
    "def get_column(A: Matrix, j: int) -> Vector:\n",
    "    \"\"\"Returns the j-th column of A (as a Vector)\"\"\"\n",
    "    return [A_i[j]         # j-th element of row A_i\n",
    "            for A_i in A]  # for each row A_i"
   ]
  },
  {
   "cell_type": "markdown",
   "id": "6b55522f-0130-4829-8ad7-ae0b52ef5148",
   "metadata": {},
   "source": [
    "We also want to be able to create a matrix given its shape and a function for generating its elements. We can do this using a nested list comprehension:"
   ]
  },
  {
   "cell_type": "code",
   "execution_count": 30,
   "id": "c67a7d7b-d5f8-4855-a1c7-74f1b4ace1ee",
   "metadata": {},
   "outputs": [],
   "source": [
    "from typing import Callable\n",
    "\n",
    "def make_matrix(num_rows: int,\n",
    "                num_cols: int,\n",
    "                entry_fn: Callable[[int, int], float]) -> Matrix:\n",
    "    \"\"\"\n",
    "    Returns a num_rows x num_cols matrix\n",
    "    whose (i, j)-th entry is entry_fn(i, j)\n",
    "    \"\"\"\n",
    "    return [[entry_fn(i, j)              # given i, create a list\n",
    "             for j in range(num_cols)]   # [entry_fn(i, 0), ... ]\n",
    "            for i in range(num_rows)]    # create one list for each i"
   ]
  },
  {
   "cell_type": "markdown",
   "id": "07f02307-7c95-4020-9f30-6e0595eebebc",
   "metadata": {},
   "source": [
    "Given this function, you could make a 5 x 5 *identity matrix* (with 1s on the diagonal and 0s elsewhere)"
   ]
  },
  {
   "cell_type": "code",
   "execution_count": 31,
   "id": "1b1fd698-9c53-4408-81ff-5c841e8bb217",
   "metadata": {},
   "outputs": [],
   "source": [
    "def identity_matrix(n: int) -> Matrix:\n",
    "    \"\"\"Returns the n x n identity matrix\"\"\"\n",
    "    return make_matrix(n, n, lambda i, j: 1 if i == j else 0)"
   ]
  },
  {
   "cell_type": "code",
   "execution_count": 32,
   "id": "505dcd40-e159-49f1-bd8a-8301be7e2351",
   "metadata": {},
   "outputs": [
    {
     "data": {
      "text/plain": [
       "[[1, 0, 0, 0, 0],\n",
       " [0, 1, 0, 0, 0],\n",
       " [0, 0, 1, 0, 0],\n",
       " [0, 0, 0, 1, 0],\n",
       " [0, 0, 0, 0, 1]]"
      ]
     },
     "execution_count": 32,
     "metadata": {},
     "output_type": "execute_result"
    }
   ],
   "source": [
    "identity_matrix(5)"
   ]
  },
  {
   "cell_type": "markdown",
   "id": "7acd7c60-5875-40e8-a84a-e704f8a1ef50",
   "metadata": {},
   "source": [
    "Matrices are important to data science for several reasons:\n",
    "* we can use a matrix to represent a dataset consisting of multiple vectors, simply by considering each vector as a row of the matrix\n",
    "* we can use an *n x k* matrix to represent a linear function that maps *k*-dimensional vectors to *n*-dimensional vectors\n",
    "* we can use matrices to represent binary relationships. (e.g. a graph where 1 represent an edge between i and j and 0 represent no edge)"
   ]
  },
  {
   "cell_type": "code",
   "execution_count": null,
   "id": "c9e4d099-facb-465c-b375-d0685a5f4af7",
   "metadata": {},
   "outputs": [],
   "source": []
  }
 ],
 "metadata": {
  "kernelspec": {
   "display_name": "Python 3 (ipykernel)",
   "language": "python",
   "name": "python3"
  },
  "language_info": {
   "codemirror_mode": {
    "name": "ipython",
    "version": 3
   },
   "file_extension": ".py",
   "mimetype": "text/x-python",
   "name": "python",
   "nbconvert_exporter": "python",
   "pygments_lexer": "ipython3",
   "version": "3.10.9"
  }
 },
 "nbformat": 4,
 "nbformat_minor": 5
}

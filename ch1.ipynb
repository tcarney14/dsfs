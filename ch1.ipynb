{
 "cells": [
  {
   "cell_type": "markdown",
   "id": "f7f6bef0-6d43-47d9-8af9-657748024daf",
   "metadata": {},
   "source": [
    "# DataSciencester"
   ]
  },
  {
   "cell_type": "markdown",
   "id": "43eea348-2ec5-4e63-9c15-ca14a52a4194",
   "metadata": {},
   "source": [
    "### Finding Key Connectors"
   ]
  },
  {
   "cell_type": "code",
   "execution_count": 5,
   "id": "0c9ce6ff-5cf6-4958-ab2a-ec2968884d68",
   "metadata": {},
   "outputs": [],
   "source": [
    "users = [\n",
    "    {\"id\": 0, \"name\": \"Hero\"},\n",
    "    {\"id\": 1, \"name\": \"Dunn\"},\n",
    "    {\"id\": 2, \"name\": \"Sue\"},\n",
    "    {\"id\": 3, \"name\": \"Chi\"},\n",
    "    {\"id\": 4, \"name\": \"Thor\"},\n",
    "    {\"id\": 5, \"name\": \"Clive\"},\n",
    "    {\"id\": 6, \"name\": \"Hicks\"},\n",
    "    {\"id\": 7, \"name\": \"Devin\"},\n",
    "    {\"id\": 8, \"name\": \"Kate\"},\n",
    "    {\"id\": 9, \"name\": \"Klein\"}\n",
    "]\n",
    "\n",
    "friendship_pairs = [(0, 1), (0, 2), (1, 2), (1, 3), (2, 3), (3, 4), (4, 5), (5, 6), (5, 7), (6, 8), (7, 8), (8, 9)]\n",
    "\n",
    "#initialize the dict with an empty list for each user id:\n",
    "friendships = {user[\"id\"]: [] for user in users}"
   ]
  },
  {
   "cell_type": "code",
   "execution_count": 6,
   "id": "d8079df8-8624-4767-b782-2cda4142bfb1",
   "metadata": {},
   "outputs": [],
   "source": [
    "# And loop over the friendship pairs to populate it:\n",
    "for i, j in friendship_pairs:\n",
    "    friendships[i].append(j)\n",
    "    friendships[j].append(i)"
   ]
  },
  {
   "cell_type": "code",
   "execution_count": 7,
   "id": "75a1b05f-ab3d-4ca3-9c8f-ca220fe0c85a",
   "metadata": {},
   "outputs": [],
   "source": [
    "def number_of_friends(user):\n",
    "    \"\"\"How many friends does _user_ have?\"\"\"\n",
    "    user_id = user[\"id\"]\n",
    "    friend_ids = friendships[user_id]\n",
    "    return len(friend_ids)"
   ]
  },
  {
   "cell_type": "code",
   "execution_count": 8,
   "id": "35637d8b-50c8-4753-9fa4-3e743462ef28",
   "metadata": {},
   "outputs": [],
   "source": [
    "total_connections = sum(number_of_friends(user) for user in users)\n",
    "\n",
    "num_users = len(users)\n",
    "avg_connections = total_connections / num_users"
   ]
  },
  {
   "cell_type": "code",
   "execution_count": 9,
   "id": "2bc19356-bb73-4f3a-9a4d-6a889094dce3",
   "metadata": {},
   "outputs": [
    {
     "name": "stdout",
     "output_type": "stream",
     "text": [
      "[(1, 3), (2, 3), (3, 3), (5, 3), (8, 3), (0, 2), (4, 2), (6, 2), (7, 2), (9, 1)]\n"
     ]
    }
   ],
   "source": [
    "#Create a list (user_id, number_of_friends)\n",
    "num_friends_by_id = [(user[\"id\"], number_of_friends(user)) for user in users]\n",
    "\n",
    "#sort the list by num_friends largest to smallest\n",
    "num_friends_by_id.sort(key=lambda id_and_friends: id_and_friends[1], reverse=True)\n",
    "\n",
    "print(num_friends_by_id)"
   ]
  },
  {
   "cell_type": "markdown",
   "id": "6af4152e-5208-42f5-a1e2-19754e37436b",
   "metadata": {},
   "source": [
    "### Data Scientists You May Know"
   ]
  },
  {
   "cell_type": "code",
   "execution_count": 10,
   "id": "94f231dc-b9ba-4dc3-aa99-ff03aa30a402",
   "metadata": {},
   "outputs": [],
   "source": [
    "def foaf_ids_bad(user):\n",
    "    \"\"\"foaf is short for 'friend of a friend'\"\"\"\n",
    "    return [foaf_id\n",
    "            for friend_id in friendships[user[\"id\"]]\n",
    "            for foaf_id in friendships[friend_id]]"
   ]
  },
  {
   "cell_type": "code",
   "execution_count": 11,
   "id": "5a5c68bd-0e3f-4cac-9ac8-4614423bf261",
   "metadata": {},
   "outputs": [
    {
     "data": {
      "text/plain": [
       "[0, 2, 3, 0, 1, 3]"
      ]
     },
     "execution_count": 11,
     "metadata": {},
     "output_type": "execute_result"
    }
   ],
   "source": [
    "foaf_ids_bad(users[0])"
   ]
  },
  {
   "cell_type": "markdown",
   "id": "f8dcfd32-ae0d-4961-9b19-f9f7c80031de",
   "metadata": {},
   "source": [
    "* Includes user 0 twice since Hero is indeed friends with both of his friends\n",
    "* includes user 3 twice as Chi is reachable through two different friends"
   ]
  },
  {
   "cell_type": "code",
   "execution_count": 12,
   "id": "ef726fea-da19-4ec0-ad93-05bff2cdf19c",
   "metadata": {},
   "outputs": [],
   "source": [
    "from collections import Counter\n",
    "\n",
    "def friend_of_friends(user):\n",
    "    user_id = user[\"id\"]\n",
    "    return Counter(\n",
    "        foaf_id\n",
    "        for friend_id in friendships[user_id]\n",
    "        for foaf_id in friendships[friend_id]\n",
    "        if foaf_id != user_id\n",
    "        and foaf_id not in friendships[user_id]\n",
    "    )"
   ]
  },
  {
   "cell_type": "code",
   "execution_count": 14,
   "id": "a9056718-1744-4142-b046-7d1133dbc646",
   "metadata": {},
   "outputs": [
    {
     "name": "stdout",
     "output_type": "stream",
     "text": [
      "Counter({0: 2, 5: 1})\n"
     ]
    }
   ],
   "source": [
    "print(friend_of_friends(users[3]))"
   ]
  },
  {
   "cell_type": "markdown",
   "id": "e3dc2203-cda5-49fd-bb3a-7e79469c7939",
   "metadata": {},
   "source": [
    "* this tells Chi (id 3) she has two mutual friends with Hero (id 0) and only one mutual friend with Clive (id 5)"
   ]
  },
  {
   "cell_type": "code",
   "execution_count": 27,
   "id": "348324f4-ab87-4ac9-984a-0a2f935f5dc0",
   "metadata": {},
   "outputs": [],
   "source": [
    "interests = [\n",
    "    (0, \"Hadoop\"), (0, \"Big Data\"), (0, \"HBase\"), (0, \"Java\"), \n",
    "    (0, \"Spark\"), (0, \"Storm\"), (0, \"Cassandra\"), \n",
    "    (1, \"NoSQL\"), (1, \"MongoDB\"), (1, \"Cassandra\"),(1, \"HBase\"),\n",
    "    (1, \"Postgres\"), (2, \"Python\"), (2, \"scikit-learn\"), (2, \"scipy\"),\n",
    "    (2, \"numpy\"), (2, \"statsmodels\"), (2, \"pandas\"), (3, \"R\"), (3, \"python\"),\n",
    "    (3, \"statistics\"), (3, \"regression\"), (3, \"probability\"),\n",
    "    (4, \"machine learning\"), (4, \"regression\"), (4, \"decision trees\"),\n",
    "    (4, \"libsvm\"), (5, \"Python\"), (5, \"R\"), (5, \"Java\"), (5, \"C++\"),  \n",
    "    (5, \"Haskell\"), (5, \"programming languages\"), (6, \"statistics\"),\n",
    "    (6, \"probability\"), (6, \"mathematics\"), (6, \"theory\"),\n",
    "    (7, \"machine learning\"), (7, \"scikit-learn\"), (7, \"Mahout\"),\n",
    "    (7, \"neural networks\"), (8, \"neural networks\"), (8, \"deep learning\"),\n",
    "    (8, \"Big Data\"), (8, \"artificial intelligence\"), (9, \"Hadoop\"),\n",
    "    (9, \"Java\"), (9, \"MapReduce\"), (9, \"Big Data\")\n",
    "]"
   ]
  },
  {
   "cell_type": "code",
   "execution_count": 28,
   "id": "f256489b-9ad0-4510-990c-5cfca1e245d1",
   "metadata": {},
   "outputs": [],
   "source": [
    "def data_scientists_who_like(target_interest):\n",
    "    \"\"\"Find the ids of all users who like the target interest.\"\"\"\n",
    "    return [user_id \n",
    "            for user_id, user_interest in interests\n",
    "            if user_interest == target_interest]"
   ]
  },
  {
   "cell_type": "markdown",
   "id": "ecf8c566-b853-491c-b020-619192a52dd5",
   "metadata": {},
   "source": [
    "* This works, but has to examine the whole list of interests for every search.\n",
    "* instead, we can build an index from interests to users"
   ]
  },
  {
   "cell_type": "code",
   "execution_count": 29,
   "id": "52046090-8c3c-4f8a-b51c-16a474b909bb",
   "metadata": {},
   "outputs": [],
   "source": [
    "from collections import defaultdict\n",
    "\n",
    "#Keys are interest, values are lists of user_ids with that interest\n",
    "user_ids_by_interest = defaultdict(list)\n",
    "\n",
    "for user_id, interest in interests:\n",
    "    user_ids_by_interest[interest].append(user_id)"
   ]
  },
  {
   "cell_type": "markdown",
   "id": "0bbb1d01-c0bb-4fda-acdb-68d1bed50db4",
   "metadata": {},
   "source": [
    "* and another from users to interests:"
   ]
  },
  {
   "cell_type": "code",
   "execution_count": 30,
   "id": "85baec3b-2d6f-4095-9af3-6764df678fab",
   "metadata": {},
   "outputs": [],
   "source": [
    "# keys are user_ids, values are lists of interests for that user_id\n",
    "interests_by_user_id = defaultdict(list)\n",
    "\n",
    "for user_id, interest in interests:\n",
    "    interests_by_user_id[user_id].append(interest)"
   ]
  },
  {
   "cell_type": "markdown",
   "id": "63157a44-db43-4292-acda-703b601913cb",
   "metadata": {},
   "source": [
    "##### Now we can find who has the most interests in common with a given user:\n",
    "* iterate over the user's interests\n",
    "* for each interest, iterate over the other users with that interest\n",
    "* keep count of how many times we see each other users"
   ]
  },
  {
   "cell_type": "code",
   "execution_count": 31,
   "id": "d88dfbf2-7e94-464f-8a9f-94056936c959",
   "metadata": {},
   "outputs": [],
   "source": [
    "def most_common_interests_with(user):\n",
    "    return Counter(\n",
    "        interested_user_id\n",
    "        for interest in interests_by_user_id[user[\"id\"]]\n",
    "        for interested_user_id in user_ids_by_interest[interest]\n",
    "        if interested_user_id != user[\"id\"]\n",
    "    )"
   ]
  },
  {
   "cell_type": "code",
   "execution_count": 33,
   "id": "fa128ec2-8d21-4fec-95e0-b732bc1c2793",
   "metadata": {},
   "outputs": [
    {
     "name": "stdout",
     "output_type": "stream",
     "text": [
      "Counter({2: 1, 3: 1, 0: 1, 9: 1})\n"
     ]
    }
   ],
   "source": [
    "print(most_common_interests_with(users[5]))"
   ]
  },
  {
   "cell_type": "markdown",
   "id": "3954f7f0-d6eb-4e7e-98f7-cfff41813bd2",
   "metadata": {},
   "source": [
    "### Salaries and Experience"
   ]
  },
  {
   "cell_type": "code",
   "execution_count": 34,
   "id": "a5ac9cf8-bc21-402c-9cb9-e38063a0019e",
   "metadata": {},
   "outputs": [],
   "source": [
    "salaries_and_tenures = [(83000, 8.7), (80000, 8.1),\n",
    "                        (48000, 0.7), (76000, 6),\n",
    "                        (69000, 6.5), (76000, 7.5),\n",
    "                        (60000, 2.5), (83000, 10),\n",
    "                        (48000, 1.9), (63000, 4.2)]"
   ]
  },
  {
   "cell_type": "code",
   "execution_count": 38,
   "id": "3feea93b-4bba-4be0-a20f-af1626cf0eaf",
   "metadata": {},
   "outputs": [],
   "source": [
    "#keys are years, values are lists of the salaries for each tenure\n",
    "salary_by_tenure = defaultdict(list)\n",
    "\n",
    "for salary, tenure in salaries_and_tenures:\n",
    "    salary_by_tenure[tenure].append(salary)"
   ]
  },
  {
   "cell_type": "code",
   "execution_count": 40,
   "id": "827a1a85-b323-43e1-89d3-3d80668674a2",
   "metadata": {},
   "outputs": [],
   "source": [
    "#keys are years, each value is average salary for that tenure\n",
    "average_salary_by_tenure = {\n",
    "    tenure: sum(salaries) / len(salaries)\n",
    "    for tenure, salaries in salary_by_tenure.items()\n",
    "}"
   ]
  },
  {
   "cell_type": "code",
   "execution_count": 41,
   "id": "58b1cd59-7857-44d8-9884-f125f0185cdd",
   "metadata": {},
   "outputs": [
    {
     "name": "stdout",
     "output_type": "stream",
     "text": [
      "{8.7: 83000.0, 8.1: 80000.0, 0.7: 48000.0, 6: 76000.0, 6.5: 69000.0, 7.5: 76000.0, 2.5: 60000.0, 10: 83000.0, 1.9: 48000.0, 4.2: 63000.0}\n"
     ]
    }
   ],
   "source": [
    "print(average_salary_by_tenure)"
   ]
  },
  {
   "cell_type": "markdown",
   "id": "24657527-a264-45af-93a3-6af2b2c8c0fd",
   "metadata": {},
   "source": [
    "* not very useful since nobody has exact same tenure\n",
    "* might be helpful to bucket the tenures"
   ]
  },
  {
   "cell_type": "code",
   "execution_count": 42,
   "id": "438429e4-cc4e-42c8-b71b-9d103f055520",
   "metadata": {},
   "outputs": [],
   "source": [
    "def tenure_bucket(tenure):\n",
    "    if tenure < 2:\n",
    "        return \"less than two\"\n",
    "    elif tenure < 5:\n",
    "        return \"between two and five\"\n",
    "    else:\n",
    "        return \"more than five\""
   ]
  },
  {
   "cell_type": "code",
   "execution_count": 45,
   "id": "6ff91600-b5df-4e04-be12-ef89fdcd620e",
   "metadata": {},
   "outputs": [],
   "source": [
    "#keys are tenure buckets, values are lists of salaries for that bucket\n",
    "salary_by_tenure_bucket = defaultdict(list)\n",
    "for salary, tenure in salaries_and_tenures:\n",
    "    bucket = tenure_bucket(tenure)\n",
    "    salary_by_tenure_bucket[bucket].append(salary)"
   ]
  },
  {
   "cell_type": "code",
   "execution_count": 46,
   "id": "bf1de2e9-9ab0-43de-b0e1-d516b47fdbc7",
   "metadata": {},
   "outputs": [],
   "source": [
    "average_salary_by_bucket = {\n",
    "    tenure_bucket: sum(salaries) / len(salaries)\n",
    "    for tenure_bucket, salaries in salary_by_tenure_bucket.items()\n",
    "}"
   ]
  },
  {
   "cell_type": "code",
   "execution_count": 47,
   "id": "af0d3692-fcd3-43ed-8169-0e05fc267d63",
   "metadata": {},
   "outputs": [
    {
     "name": "stdout",
     "output_type": "stream",
     "text": [
      "{'more than five': 77833.33333333333, 'less than two': 48000.0, 'between two and five': 61500.0}\n"
     ]
    }
   ],
   "source": [
    "print(average_salary_by_bucket)"
   ]
  },
  {
   "cell_type": "markdown",
   "id": "dcc96410-081f-4bfa-a80b-4a53eb5c06db",
   "metadata": {},
   "source": [
    "* \"Data Scientists with more than 5 years' experience earn 65% more than data scientists with little or no experience\""
   ]
  },
  {
   "cell_type": "markdown",
   "id": "4ab9afe0-3de1-4dfa-84f9-a6c0853828db",
   "metadata": {},
   "source": [
    "### Paid Accounts"
   ]
  },
  {
   "cell_type": "markdown",
   "id": "323eee27-939f-4c5b-985f-66b7562c19f4",
   "metadata": {},
   "source": [
    "* We notice there seems to be a correspondence between years of experience and paid acounts:<br>\n",
    "    0.7 paid<br>\n",
    "    1.9 unpaid<br>\n",
    "    2.5 paid<br>\n",
    "    4.2 unpaid<br>\n",
    "    6.0 unpaid<br>\n",
    "    6.5 unpaid<br>\n",
    "    7.5 unpaid<br>\n",
    "    8.1 unpaid<br>\n",
    "    8.7 paid<br>\n",
    "    10.0 paid<br>"
   ]
  },
  {
   "cell_type": "code",
   "execution_count": 50,
   "id": "c8410a17-0a64-46f1-98a5-bd288374c808",
   "metadata": {},
   "outputs": [],
   "source": [
    "#very basic prediction function\n",
    "def predict_paid_or_unpaid(years_experience):\n",
    "    if years_experience < 3.0:\n",
    "        return \"paid\"\n",
    "    elif years_experience < 8.5:\n",
    "        return \"unpaid\"\n",
    "    else:\n",
    "        return \"paid\""
   ]
  },
  {
   "cell_type": "markdown",
   "id": "37386aca-0dcf-40e6-a8fe-027dea1203fc",
   "metadata": {},
   "source": [
    "### Topics of Interest"
   ]
  },
  {
   "cell_type": "markdown",
   "id": "cd8dee05-c493-4d7a-951a-d5b0b9f6efc3",
   "metadata": {},
   "source": [
    "One simple way to find the most popular interests is to count the words:\n",
    "* lowercase each interest\n",
    "* split it into words\n",
    "* count the results"
   ]
  },
  {
   "cell_type": "code",
   "execution_count": 52,
   "id": "b3d1e1ff-ed4c-4638-bf16-1df9e977687a",
   "metadata": {},
   "outputs": [],
   "source": [
    "words_and_counts = Counter(word\n",
    "                           for user, interest in interests\n",
    "                           for word in interest.lower().split())"
   ]
  },
  {
   "cell_type": "code",
   "execution_count": 53,
   "id": "a8a47bd6-a821-4983-9b89-2146c49c877e",
   "metadata": {},
   "outputs": [
    {
     "name": "stdout",
     "output_type": "stream",
     "text": [
      "big 3\n",
      "data 3\n",
      "java 3\n",
      "python 3\n",
      "learning 3\n",
      "hadoop 2\n",
      "hbase 2\n",
      "cassandra 2\n",
      "scikit-learn 2\n",
      "r 2\n",
      "statistics 2\n",
      "regression 2\n",
      "probability 2\n",
      "machine 2\n",
      "neural 2\n",
      "networks 2\n"
     ]
    }
   ],
   "source": [
    "for word, count in words_and_counts.most_common():\n",
    "    if count > 1:\n",
    "        print(word, count)"
   ]
  },
  {
   "cell_type": "code",
   "execution_count": null,
   "id": "9f2a0006-95ea-4a66-b14e-5d0d17506bd1",
   "metadata": {},
   "outputs": [],
   "source": []
  }
 ],
 "metadata": {
  "kernelspec": {
   "display_name": "Python 3",
   "language": "python",
   "name": "python3"
  },
  "language_info": {
   "codemirror_mode": {
    "name": "ipython",
    "version": 3
   },
   "file_extension": ".py",
   "mimetype": "text/x-python",
   "name": "python",
   "nbconvert_exporter": "python",
   "pygments_lexer": "ipython3",
   "version": "3.6.13"
  }
 },
 "nbformat": 4,
 "nbformat_minor": 5
}

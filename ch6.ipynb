{
 "cells": [
  {
   "cell_type": "markdown",
   "id": "594bb8c4-91f1-4158-ab73-bb2a0f5fd113",
   "metadata": {},
   "source": [
    "# Probability"
   ]
  },
  {
   "cell_type": "markdown",
   "id": "535a5d8e-80ef-4efb-8d37-4bd2f8df4888",
   "metadata": {},
   "source": [
    "* *probability* is a way of quantifying the uncretainty associated with *events* chosen from some *universe* of events (e.g. the die rolls 4)\n",
    "* *P(E)* means the \"probability of the event *E*\""
   ]
  },
  {
   "cell_type": "markdown",
   "id": "d7d4a354-f0e2-4d68-848e-8a2cbec1f207",
   "metadata": {},
   "source": [
    "### Dependence and Independence"
   ]
  },
  {
   "cell_type": "markdown",
   "id": "836cb0ab-3ae3-435c-863e-960746da00da",
   "metadata": {},
   "source": [
    "* roughly speaking, we say that two events *E* and *F* are *dependent* if knowing something about whether *E* happens gives us information about whether *F* happens (and vice versa)\n",
    "* otherwise, they are *independent*\n",
    "* mathematically, we say two events are independent if the probability that they bothhappen is the product of the probabilities that each one happens:\n",
    "    *P(E, F) = P(E)P(F)*"
   ]
  },
  {
   "cell_type": "markdown",
   "id": "8a3fc753-cf79-4ef9-b0a3-9dfca6ca1ab0",
   "metadata": {},
   "source": [
    "### Conditional Probability "
   ]
  },
  {
   "cell_type": "markdown",
   "id": "aaadcea7-80e8-4e1a-ab2f-8ad4ddbc335e",
   "metadata": {},
   "source": [
    "If two events are not necessarily independent, then we define the probability of *E* \"conditional on *F*\" as:\n",
    "* *P(E|F) = P(E,F)/P(F)*"
   ]
  },
  {
   "cell_type": "markdown",
   "id": "c7c932fa-a098-4020-8af2-5cf0161fd1c0",
   "metadata": {},
   "source": [
    "Can think of this as \"the probability that E happens, given that we know that F happens\"\n",
    "* *P(E,F) = P(E|F)P(F)"
   ]
  },
  {
   "cell_type": "markdown",
   "id": "3e26a0fa-a161-4819-a405-37cd9e885de8",
   "metadata": {},
   "source": [
    "When *E* and *F* are independent, this gives:\n",
    "* *P(E|F) = P(E)*"
   ]
  },
  {
   "cell_type": "markdown",
   "id": "c9b5e183-fe1e-42d9-9b53-28026e619eff",
   "metadata": {},
   "source": [
    "### Bayes's Theorem"
   ]
  },
  {
   "cell_type": "markdown",
   "id": "d616000a-b2e9-4b90-9f31-cbd3632c64b0",
   "metadata": {},
   "source": [
    "* a way of \"reversing\" conditional probabilities\n",
    "* if we know the probability of some event *E* conditional on some other event *F*, we can use Bayes's Theorem to find out the probability of event *F* conditional on event *E*"
   ]
  },
  {
   "cell_type": "markdown",
   "id": "bccf5c45-e9b4-4e0d-8054-f255f4e69534",
   "metadata": {},
   "source": [
    "Using the definition of conditional probablity twice tells us that:\n",
    "* *P(E|F) = P(E,F)/P(F) = P(F|E)P(E)/P(F)"
   ]
  },
  {
   "cell_type": "markdown",
   "id": "92f80b7e-28e4-41de-bc21-03fee050231a",
   "metadata": {},
   "source": [
    "The event *F* can be split into two mutually exclusive events \"*F and E*\" and \"*F and not E*\"\n",
    "* *P(F) = P(F,E) + P(F, ~E)*"
   ]
  },
  {
   "cell_type": "markdown",
   "id": "2d062e89-a4be-492e-8c5f-bde296acbc71",
   "metadata": {},
   "source": [
    "* *P(E|F) = P(F|E)P(E)/[P(F|E)P(E) + P(F| ~E)P( ~E)]*"
   ]
  },
  {
   "cell_type": "markdown",
   "id": "5be495d2-10c8-4e4a-bf2e-a0366e344f7e",
   "metadata": {},
   "source": [
    "### Random Variables"
   ]
  },
  {
   "cell_type": "markdown",
   "id": "36534406-9971-4894-9cab-2873671ff337",
   "metadata": {},
   "source": [
    "* a *random variable* is a variable whose possible values have an associated probability distribution.\n",
    "* a very simple random variable equals 1 if a coin flip is heads, and 0 if the flip is tails\n",
    "* a more complicated one might measure the number of heads you observe when flipping a coin 10 times or a value picked from range(10) where each number is equally likely"
   ]
  },
  {
   "cell_type": "markdown",
   "id": "ae965e20-20ef-4a1d-a9d4-1e0d66cbaae5",
   "metadata": {},
   "source": [
    "* the *expected value* of a random variable is the average of its values weighted by their probabilities.\n",
    "* the coin flip variable has an expected value of 1/2 (=0 * 1/2 + 1 * 1/2) and the range(10) variable has an expected value of 4.5"
   ]
  },
  {
   "cell_type": "markdown",
   "id": "83789992-bcaa-4d04-bc41-5fa4993b96bd",
   "metadata": {},
   "source": [
    "* random variables can be *conditioned* on events"
   ]
  },
  {
   "cell_type": "markdown",
   "id": "e3b7e541-51a6-4634-a26f-76c28f26d1a5",
   "metadata": {},
   "source": [
    "### Continuous Distributions"
   ]
  },
  {
   "cell_type": "markdown",
   "id": "0e000a96-a6bf-4fc1-b4ca-e75877a67078",
   "metadata": {},
   "source": [
    "* a coin flip corresponds to a *discrete distribution* - one that associates positive probability with discrete events\n",
    "* a *continuous distribution* corresponds to probability of a continuum (real numbered) outcomes"
   ]
  },
  {
   "cell_type": "markdown",
   "id": "cfb4bfe0-616f-47c3-aa77-04b1a3fc0080",
   "metadata": {},
   "source": [
    "* the *uniform distribution* put equal weight on all the numbrs between 0 and 1\n",
    "* because there are infinite numbers between 0 and 1, this necessitates that individual points have a weight of 0\n",
    "* for this reason, we represent a continuous distribution with a *probability density function* (PDF)"
   ]
  },
  {
   "cell_type": "markdown",
   "id": "0029aad5-84f3-469d-9e77-8bc8947b3c03",
   "metadata": {},
   "source": [
    "The density function for the uniform distribution is just:"
   ]
  },
  {
   "cell_type": "code",
   "execution_count": 1,
   "id": "77df0bec-0a95-4b0b-b8bd-cc49fd369c12",
   "metadata": {},
   "outputs": [],
   "source": [
    "def uniform_pdf(x: float) -> float:\n",
    "    return 1 if 0 <= x < 1 else 0"
   ]
  },
  {
   "cell_type": "markdown",
   "id": "276cab0a-b45f-46aa-960c-f6cebc65e2d3",
   "metadata": {},
   "source": [
    "The probability that a random variable following this distribution is between 0.2 and 0.3, is 1/10"
   ]
  },
  {
   "cell_type": "markdown",
   "id": "ec19150f-6841-403d-9b49-24f636382511",
   "metadata": {},
   "source": [
    "The *cumulative distribution function* gives the probability a random variable is less than or equal to a certain value:"
   ]
  },
  {
   "cell_type": "code",
   "execution_count": 2,
   "id": "87c818a9-d84c-474b-b54c-bfc38f250022",
   "metadata": {},
   "outputs": [],
   "source": [
    "def uniform_cdf(x: float) -> float:\n",
    "    \"\"\" Returns the probability that a uniform random variable is <= x \"\"\"\n",
    "    if x < 0: return 0   #uniform random is never less than 0\n",
    "    elif x < 1: return x # e.g. P(x <= 0.4) = 0.4\n",
    "    else: return 1       # uniform random is always less than 1"
   ]
  },
  {
   "cell_type": "markdown",
   "id": "493c2d8f-b036-49d3-9ce0-57856b703824",
   "metadata": {},
   "source": [
    "### The Normal Distribution"
   ]
  },
  {
   "cell_type": "markdown",
   "id": "d688adcd-c157-4b2e-8e58-2907bc95348c",
   "metadata": {},
   "source": [
    "bell-shaped curve determined by two parameters:\n",
    "* its mean $\\mu$ (mu)\n",
    "* its standard deviation $\\sigma$ (sigma)"
   ]
  },
  {
   "cell_type": "markdown",
   "id": "5daa0947-b9cb-4c2c-a96e-5572dc4e0253",
   "metadata": {},
   "source": [
    "It has the PDF:"
   ]
  },
  {
   "cell_type": "markdown",
   "id": "2a15391f-d03f-4afe-9fa6-bbcb2cca7564",
   "metadata": {},
   "source": [
    "$$f(x) = \\frac{1}{\\sigma\\sqrt{2\\pi}} \n",
    "  \\exp\\left( -\\frac{1}{2}\\left(\\frac{x-\\mu}{\\sigma}\\right)^{\\!2}\\,\\right)$$"
   ]
  },
  {
   "cell_type": "markdown",
   "id": "d82c83c3-4ee8-47f7-8e3e-cea59bab57ac",
   "metadata": {},
   "source": [
    "which we can implement as:"
   ]
  },
  {
   "cell_type": "code",
   "execution_count": 3,
   "id": "9e81bb40-7181-4277-b782-a24d546c9ce8",
   "metadata": {},
   "outputs": [],
   "source": [
    "import math\n",
    "SQRT_TWO_PI = math.sqrt(2 * math.pi)\n",
    "\n",
    "def normal_pdf(x: float, mu: float =    0, sigma: float = 1) -> float:\n",
    "    return (math.exp(-(x-mu) ** 2 / 2 / sigma ** 2) / (SQRT_TWO_PI * sigma))"
   ]
  },
  {
   "cell_type": "code",
   "execution_count": 5,
   "id": "3aa6be00-964c-426f-aaac-606ba9308490",
   "metadata": {},
   "outputs": [
    {
     "data": {
      "image/png": "[encoded data removed]",
      "text/plain": [
       "<Figure size 432x288 with 1 Axes>"
      ]
     },
     "metadata": {
      "needs_background": "light"
     },
     "output_type": "display_data"
    }
   ],
   "source": [
    "import matplotlib.pyplot as plt\n",
    "xs = [x / 10.0 for x in range(-50, 50)]\n",
    "plt.plot(xs,[normal_pdf(x, sigma=1) for x in xs], '-', label='mu=0,sigma=1')\n",
    "plt.plot(xs,[normal_pdf(x, sigma=2) for x in xs], '--', label='mu=0,sigma=2')\n",
    "plt.plot(xs,[normal_pdf(x, sigma=0.5) for x in xs], ':', label='mu=0,sigma=0.5')\n",
    "plt.plot(xs,[normal_pdf(x, mu=-1)   for x in xs], '-.', label='mu=-1,sigma=1')\n",
    "plt.legend()\n",
    "plt.title(\"Various Normal pdfs\")\n",
    "plt.show()"
   ]
  },
  {
   "cell_type": "markdown",
   "id": "60e1d53b-1e07-4423-807e-ee27922d6398",
   "metadata": {},
   "source": [
    "When $\\mu$ = 0 and $\\sigma$ = 1, its called the *standard normal distribution*"
   ]
  },
  {
   "cell_type": "markdown",
   "id": "0a8a9cf7-623e-4307-8e27-c537a2661f1c",
   "metadata": {},
   "source": [
    "The CDF for the normal distribution requires using Python's **math.erf** error function"
   ]
  },
  {
   "cell_type": "code",
   "execution_count": 6,
   "id": "263df94c-4b25-40a6-b890-f89a64c5904a",
   "metadata": {},
   "outputs": [],
   "source": [
    "def normal_cdf(x: float, mu: float = 0, sigma: float = 1) -> float:\n",
    "    return (1 + math.erf((x-mu) / math.sqrt(2) / sigma)) / 2"
   ]
  },
  {
   "cell_type": "code",
   "execution_count": 7,
   "id": "a96f3498-72a2-44ee-96e3-92e22407ffc4",
   "metadata": {},
   "outputs": [
    {
     "data": {
      "image/png": "[encoded data removed]",
      "text/plain": [
       "<Figure size 432x288 with 1 Axes>"
      ]
     },
     "metadata": {
      "needs_background": "light"
     },
     "output_type": "display_data"
    }
   ],
   "source": [
    "xs = [x / 10.0 for x in range(-50, 50)]\n",
    "plt.plot(xs,[normal_cdf(x, sigma=1) for x in xs], '-', label='mu=0,sigma=1')\n",
    "plt.plot(xs,[normal_cdf(x, sigma=2) for x in xs], '--', label='mu=0,sigma=2')\n",
    "plt.plot(xs,[normal_cdf(x, sigma=0.5) for x in xs], ':', label='mu=0,sigma=0.5')\n",
    "plt.plot(xs,[normal_cdf(x, mu=-1)   for x in xs], '-.', label='mu=-1,sigma=1')\n",
    "plt.legend(loc=4) # bottom right\n",
    "plt.title(\"Various Normal cdfs\")\n",
    "plt.show()"
   ]
  },
  {
   "cell_type": "markdown",
   "id": "1bed02c3-5d8b-4a4a-9d23-4832c545425c",
   "metadata": {},
   "source": [
    "Sometimes we'll need to invert **normal_cdf** to find the value corresponding to a specified probability. There's no simple way to do this, but **normal_cdf** is continuous and strictly increasing, so we can use a *binary search*:"
   ]
  },
  {
   "cell_type": "code",
   "execution_count": 8,
   "id": "11573569-ce32-4963-b18e-0326a6bc0d79",
   "metadata": {},
   "outputs": [],
   "source": [
    "def inverse_normal_cdf(p: float,\n",
    "                       mu: float = 0,\n",
    "                       sigma: float = 1,\n",
    "                       tolerance: float = 0.00001) -> float:\n",
    "    \"\"\" Find approximate inverse using binary search \"\"\"\n",
    "    \n",
    "    # if not standard, compute standard and rescale\n",
    "    if mu != 0 or sigma != 1:\n",
    "        return mu + sigma * inverse_normal_cdf(p, tolerance=tolerance)\n",
    "    \n",
    "    low_z = -10.0                    # normal_cdf(-10) is (very close to) 0\n",
    "    hi_z = 10.0                      # normal_cdf(10) is  (very close to) 1\n",
    "    while hi_z - low_z > tolerance:\n",
    "        mid_z = (low_z + hi_z) / 2   # consider the midpoint\n",
    "        mid_p = normal_cdf(mid_z)    # and the CDF's value there\n",
    "        if mid_p <p:\n",
    "            low_z = mid_z            # midpoint too low, search above it\n",
    "        else:\n",
    "            hi_z = mid_z             # midpoint too high, search below it\n",
    "                \n",
    "    return mid_z"
   ]
  },
  {
   "cell_type": "markdown",
   "id": "87fb4c10-c59b-4c52-b5d3-8bea1717b6e6",
   "metadata": {},
   "source": [
    "### The Central Limit Theorem"
   ]
  },
  {
   "cell_type": "markdown",
   "id": "75ce3040-be45-4e06-8597-2e21cd4df432",
   "metadata": {},
   "source": [
    "The *central limit theorem* states that a random variable defined as the average of large number of *iid* random variables is itself approximately normally distributed"
   ]
  },
  {
   "cell_type": "markdown",
   "id": "d0ca5715-afd1-4f8b-a7e9-90af66e88f58",
   "metadata": {},
   "source": [
    "* in particular, if $x_1, ..., x_n$ are random variables with mean $\\mu$ and std dev $\\sigma$, and *n* is large, then:"
   ]
  },
  {
   "cell_type": "markdown",
   "id": "2ee1b797-6dbc-44b5-adba-5a0a461e6f39",
   "metadata": {},
   "source": [
    "$1/n(x_1 + ... + x_n)$"
   ]
  },
  {
   "cell_type": "markdown",
   "id": "c7296d31-53b8-49f0-91c4-a756fee6d6c1",
   "metadata": {},
   "source": [
    "is approximately normally distributed with mean $\\mu$ and standard deviation $\\frac{\\sigma}{\\sqrt{n}}$"
   ]
  },
  {
   "cell_type": "markdown",
   "id": "41c22d87-ce49-4804-a71b-4bc183e42a84",
   "metadata": {},
   "source": [
    "Equivalently:"
   ]
  },
  {
   "cell_type": "markdown",
   "id": "866530b8-9ce9-4f02-abca-e33eb6f5aec4",
   "metadata": {},
   "source": [
    "$$\\frac{(x_1 + ... + x_n) - \\mu n}{\\sigma\\sqrt{n}}$$"
   ]
  },
  {
   "cell_type": "markdown",
   "id": "bbd4254e-c663-45cf-91db-99763625e82d",
   "metadata": {},
   "source": [
    "is approximately normally distributed with mean 0 and standard deviation 1"
   ]
  },
  {
   "cell_type": "markdown",
   "id": "f20c1ea4-7652-43c2-8a27-edb411fa2acc",
   "metadata": {},
   "source": [
    "An easy way to look at this is by looking at *binomial* random variables, which have to parameters *n* and *p*. A Binomial(n,p) random variable is simply the sum of *n* indpendent Bernoulli(*p*) random variables, wach of which equals 1 with probability *p* and 0 with probability 1-p:"
   ]
  },
  {
   "cell_type": "code",
   "execution_count": 14,
   "id": "0dedf343-2254-4825-9df7-352d11eacbc9",
   "metadata": {},
   "outputs": [],
   "source": [
    "import random\n",
    "\n",
    "def bernoulli_trial(p: float) -> int:\n",
    "    \"\"\"Returns 1 with probability p and 0 with probability 1-p\"\"\"\n",
    "    return 1 if random.random() < p else 0"
   ]
  },
  {
   "cell_type": "code",
   "execution_count": 15,
   "id": "ddac5a96-8dbc-41a3-886f-fff92340d4e2",
   "metadata": {},
   "outputs": [],
   "source": [
    "def binomial(n: int, p: float) -> int:\n",
    "    \"\"\"Returns the sum of n bernoulli(p) trials\"\"\"\n",
    "    return sum(bernoulli_trial(p) for _ in range(n))"
   ]
  },
  {
   "cell_type": "markdown",
   "id": "1914adcd-404d-4b44-af00-4ce007c89b03",
   "metadata": {},
   "source": [
    "The mean of a Bernoulli(p) variable is *p*, and its std dev is $\\sqrt{p(1-p)}$"
   ]
  },
  {
   "cell_type": "markdown",
   "id": "710b5e28-a269-4ecf-b1a8-cc542351a303",
   "metadata": {},
   "source": [
    "* the central limit theorem states that as *n* gets large, a Binomial(*n,p*) variable is approximately a normal random variable with mean $\\mu = np$ and std dev $\\sigma = \\sqrt{np(1-p)}$"
   ]
  },
  {
   "cell_type": "code",
   "execution_count": 18,
   "id": "1fa5765a-cfe1-4f21-b3c7-ebeafffe98a3",
   "metadata": {},
   "outputs": [],
   "source": [
    "from collections import Counter\n",
    "\n",
    "def binomial_histogram(p: float, n: int, num_points: int) -> None:\n",
    "    \"\"\"Picks points from a Binomial(n, p) and plots their histogram\"\"\"\n",
    "    data = [binomial(n, p) for _ in range(num_points)]\n",
    "    \n",
    "    # use a bar chart to show the actual binomial samples\n",
    "    histogram = Counter(data)\n",
    "    plt.bar([x-0.4 for x in histogram.keys()],\n",
    "            [v / num_points for v in histogram.values()],\n",
    "            0.8,\n",
    "            color='0.75')\n",
    "    \n",
    "    mu = p * n \n",
    "    sigma = math.sqrt(n * p * (1 - p))\n",
    "    \n",
    "    # use a line chart to show the normal approximation\n",
    "    xs = range(min(data), max(data) + 1)\n",
    "    ys = [normal_cdf(i + --0.5, mu, sigma) - normal_cdf(i - 0.5, mu, sigma)\n",
    "          for i in xs]\n",
    "    plt.plot(xs, ys)\n",
    "    plt.title(\"Binomial Distribution vs. Normal Approximation\")\n",
    "    plt.show()"
   ]
  },
  {
   "cell_type": "code",
   "execution_count": 19,
   "id": "116c94e7-1674-4fc1-a315-253ca5be6d88",
   "metadata": {},
   "outputs": [
    {
     "data": {
      "image/png": "[encoded data removed]",
      "text/plain": [
       "<Figure size 432x288 with 1 Axes>"
      ]
     },
     "metadata": {
      "needs_background": "light"
     },
     "output_type": "display_data"
    }
   ],
   "source": [
    "binomial_histogram(0.75, 100, 10000)"
   ]
  },
  {
   "cell_type": "code",
   "execution_count": null,
   "id": "a12ad05e-5ba4-48ed-8600-1f4ea9358bc8",
   "metadata": {},
   "outputs": [],
   "source": []
  }
 ],
 "metadata": {
  "kernelspec": {
   "display_name": "Python 3",
   "language": "python",
   "name": "python3"
  },
  "language_info": {
   "codemirror_mode": {
    "name": "ipython",
    "version": 3
   },
   "file_extension": ".py",
   "mimetype": "text/x-python",
   "name": "python",
   "nbconvert_exporter": "python",
   "pygments_lexer": "ipython3",
   "version": "3.6.13"
  }
 },
 "nbformat": 4,
 "nbformat_minor": 5
}

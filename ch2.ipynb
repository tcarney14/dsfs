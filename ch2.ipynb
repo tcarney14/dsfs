{
 "cells": [
  {
   "cell_type": "markdown",
   "id": "07a0fbc6-d861-4d01-bb2d-89dd32d4e521",
   "metadata": {},
   "source": [
    "### Strings"
   ]
  },
  {
   "cell_type": "markdown",
   "id": "a21c311a-061a-45bf-abc9-ce57f85295cc",
   "metadata": {},
   "source": [
    "*f-string* provides a simple way to substitute values into string"
   ]
  },
  {
   "cell_type": "code",
   "execution_count": 1,
   "id": "0a15990c-f660-4dc2-bfe7-d825adf8dd49",
   "metadata": {},
   "outputs": [],
   "source": [
    "first_name = \"Tucker\"\n",
    "last_name = \"Carney\""
   ]
  },
  {
   "cell_type": "code",
   "execution_count": 4,
   "id": "43571fa7-1be6-4503-b424-e071ddef84de",
   "metadata": {},
   "outputs": [
    {
     "name": "stdout",
     "output_type": "stream",
     "text": [
      "Tucker Carney\n",
      "Tucker Carney\n"
     ]
    }
   ],
   "source": [
    "full_name1 = first_name + \" \" + last_name #string addition\n",
    "full_name2 = \"{0} {1}\".format(first_name, last_name) #string.format\n",
    "\n",
    "print(full_name1)\n",
    "print(full_name2)"
   ]
  },
  {
   "cell_type": "markdown",
   "id": "4a00cbb1-51d9-4306-bb5e-88fdedc25222",
   "metadata": {},
   "source": [
    "but the f-string way is much less unwieldy"
   ]
  },
  {
   "cell_type": "code",
   "execution_count": 5,
   "id": "a83e850b-0bae-413f-83c0-ae13e0a19b12",
   "metadata": {},
   "outputs": [
    {
     "name": "stdout",
     "output_type": "stream",
     "text": [
      "Tucker Carney\n"
     ]
    }
   ],
   "source": [
    "full_name3 = f\"{first_name} {last_name}\"\n",
    "print(full_name3)"
   ]
  },
  {
   "cell_type": "markdown",
   "id": "4218c1d0-5a87-4807-a4af-e724f5b98bce",
   "metadata": {},
   "source": [
    "### Exceptions"
   ]
  },
  {
   "cell_type": "code",
   "execution_count": 6,
   "id": "48373af2-0969-4eb5-b6c5-faecf5596e5a",
   "metadata": {},
   "outputs": [
    {
     "name": "stdout",
     "output_type": "stream",
     "text": [
      "cannot divide by zero\n"
     ]
    }
   ],
   "source": [
    "try:\n",
    "    print(0 / 0)\n",
    "except ZeroDivisionError:\n",
    "    print(\"cannot divide by zero\")"
   ]
  },
  {
   "cell_type": "markdown",
   "id": "1f2b9820-1e42-4c6c-b824-2a5c4cb3abaf",
   "metadata": {},
   "source": [
    "### Lists"
   ]
  },
  {
   "cell_type": "code",
   "execution_count": 9,
   "id": "b0b7f5b9-e350-403a-9682-967387474db6",
   "metadata": {},
   "outputs": [],
   "source": [
    "integer_list = [1, 2, 3]\n",
    "heterogenous_list = [\"string\", 0.1, True]\n",
    "list_of_lists = [integer_list, heterogenous_list, []]"
   ]
  },
  {
   "cell_type": "code",
   "execution_count": 10,
   "id": "2e8ba83e-0454-496c-96dd-d2ba44d66724",
   "metadata": {},
   "outputs": [],
   "source": [
    "list_length = len(integer_list) # equals 3\n",
    "list_sum = sum(integer_list) # equals 6"
   ]
  },
  {
   "cell_type": "markdown",
   "id": "df7b5927-05fe-42bd-a8d5-c7478b283517",
   "metadata": {},
   "source": [
    "you can get the *n*th element of a list with square brackets"
   ]
  },
  {
   "cell_type": "code",
   "execution_count": 11,
   "id": "e7a7e221-2291-491b-9d0d-89701f996d82",
   "metadata": {},
   "outputs": [],
   "source": [
    "x = [0, 1, 2, 3, 4, 5, 6, 7, 8, 9]\n",
    "\n",
    "zero = x[0]         # equals 0, lists are 0-indexed\n",
    "one = x[1]          # equals 1\n",
    "nine = x[-1]        # equals 9, 'Pythonic' for last element\n",
    "eight = x[-2]       # equals 8, 'Pythonic' for second to last element\n",
    "x[0] = -1           # now x is [-1, 1, 2, ..., 9]"
   ]
  },
  {
   "cell_type": "markdown",
   "id": "b12e7af2-19a7-4d55-ba79-a100de02e4ae",
   "metadata": {},
   "source": [
    "You can also use square brackets to *slice* lists \n",
    "* The slice i:j means all elements from i (inclusive) to j (not inclusive)\n",
    "* If you leave off the start of the slice, you'll slice from the beginning of the list\n",
    "* If you leave off the end of the slice, you'll slice to the end of the list"
   ]
  },
  {
   "cell_type": "code",
   "execution_count": 12,
   "id": "4058a3d3-eeec-492c-9ed4-44b1e0b5e238",
   "metadata": {},
   "outputs": [],
   "source": [
    "first_three = x[:3]              # [-1, 1, 2]\n",
    "three_to_end = x[3:]             # [3, 4, ..., 9]\n",
    "one_to_four = x[1:5]             # [1, 2, 3, 4]\n",
    "last_three = x[-3:]              # [7, 8, 9]\n",
    "without_first_and_last = x[1:-1] # [1, 2, ..., 8]\n",
    "copy_of_x = x[:]                 # [-1, 1, 2, ..., 9]"
   ]
  },
  {
   "cell_type": "markdown",
   "id": "9c4ee876-ae21-42b8-946b-5a0c22d78e3b",
   "metadata": {},
   "source": [
    "You can similarly slice strings and other \"sequential\" types"
   ]
  },
  {
   "cell_type": "markdown",
   "id": "18d6fa4f-0e09-4249-a969-c249c1a85c09",
   "metadata": {},
   "source": [
    "A slice can take a 3rd argument to indicate its *stride* which can be negative:"
   ]
  },
  {
   "cell_type": "code",
   "execution_count": 13,
   "id": "56ce53d9-0f50-4809-9c72-c9a7d7a8c6bf",
   "metadata": {},
   "outputs": [],
   "source": [
    "every_third = x[::3]          # [-1, 3, 6, 9]\n",
    "five_to_three = x[5:2:-1]     # [5, 4, 3]"
   ]
  },
  {
   "cell_type": "markdown",
   "id": "d7976dfe-6bb8-4c03-84a1-167c079f19a1",
   "metadata": {},
   "source": [
    "Python has an **in** operator to check for list membership:"
   ]
  },
  {
   "cell_type": "code",
   "execution_count": 14,
   "id": "f400c338-0dae-462e-98ad-0c4df38ec5b6",
   "metadata": {},
   "outputs": [
    {
     "data": {
      "text/plain": [
       "False"
      ]
     },
     "execution_count": 14,
     "metadata": {},
     "output_type": "execute_result"
    }
   ],
   "source": [
    "1 in [1, 2, 3]   # True\n",
    "0 in [1, 2, 3]   # False"
   ]
  },
  {
   "cell_type": "markdown",
   "id": "e65d2738-80d0-4f76-ae7e-c5d76379f704",
   "metadata": {},
   "source": [
    "If you want to modify a list in place you can use **extend** to add items from another collection"
   ]
  },
  {
   "cell_type": "code",
   "execution_count": 15,
   "id": "7e628327-d808-4267-9f45-30a61eb25f47",
   "metadata": {},
   "outputs": [],
   "source": [
    "x = [1, 2, 3]\n",
    "x.extend([4, 5, 6])     # x is now [1, 2, 3, 4, 5, 6]"
   ]
  },
  {
   "cell_type": "markdown",
   "id": "4f1b44c1-528e-4af8-b1e3-481752564120",
   "metadata": {},
   "source": [
    "If you don't want to modify x, you can use list addition"
   ]
  },
  {
   "cell_type": "code",
   "execution_count": 16,
   "id": "ea8e5b5f-b70c-4ddd-b274-23e894f83e90",
   "metadata": {},
   "outputs": [],
   "source": [
    "x = [1, 2, 3]\n",
    "y = x + [4 + 5 + 6]    # y is [1, 2, 3, 4, 5, 6], x is unchanged"
   ]
  },
  {
   "cell_type": "markdown",
   "id": "88a1339b-9458-4de2-80d5-0762be588330",
   "metadata": {},
   "source": [
    "It is often convenient to *unpack* lists when you know how many elements they contain:"
   ]
  },
  {
   "cell_type": "code",
   "execution_count": 17,
   "id": "68a435d8-6e5e-4cd4-b082-80fc20c04005",
   "metadata": {},
   "outputs": [],
   "source": [
    "x, y = [1, 2]     # now x is 1, y is 2"
   ]
  },
  {
   "cell_type": "markdown",
   "id": "63290ba4-68c5-4ca0-aecc-bd6cac139e73",
   "metadata": {},
   "source": [
    "A common idiom is to use an underscore for a value you're going to throw away:"
   ]
  },
  {
   "cell_type": "code",
   "execution_count": 18,
   "id": "b738eb4b-c84e-4eb1-8554-a0ecb6610dde",
   "metadata": {},
   "outputs": [],
   "source": [
    "_, y = [1, 2]"
   ]
  },
  {
   "cell_type": "markdown",
   "id": "71ed6f69-65f3-466f-8a8b-ea8018fa8d25",
   "metadata": {},
   "source": [
    "### Tuples"
   ]
  },
  {
   "cell_type": "markdown",
   "id": "2beb1c90-98bb-446b-a294-1ab84fe9a1d8",
   "metadata": {},
   "source": [
    "Tuples are like immutable lists"
   ]
  },
  {
   "cell_type": "code",
   "execution_count": 1,
   "id": "1ab4a46d-aeab-45e9-af23-be3c8cd1e862",
   "metadata": {},
   "outputs": [
    {
     "name": "stdout",
     "output_type": "stream",
     "text": [
      "cannot modify a tuple\n"
     ]
    }
   ],
   "source": [
    "my_list = [1, 2]\n",
    "my_tuple = (1, 2)\n",
    "\n",
    "my_list[1] = 3\n",
    "\n",
    "try:\n",
    "    my_tuple[1] = 3\n",
    "except TypeError:\n",
    "    print(\"cannot modify a tuple\")"
   ]
  },
  {
   "cell_type": "code",
   "execution_count": 3,
   "id": "24a05369-6ee3-44d3-a213-8f6071d6ec06",
   "metadata": {},
   "outputs": [],
   "source": [
    "#multiple assignment\n",
    "x, y = 1, 2\n",
    "#pythonic way to swap elements\n",
    "x, y = y, x"
   ]
  },
  {
   "cell_type": "markdown",
   "id": "aba11d00-88c9-46e5-ab42-5cb9df0ed2a9",
   "metadata": {},
   "source": [
    "### Dictionaries"
   ]
  },
  {
   "cell_type": "code",
   "execution_count": 4,
   "id": "8f1c88bb-7c16-4c64-b912-948d03a4a24f",
   "metadata": {},
   "outputs": [],
   "source": [
    "empty_dict = {}                  # Pythonic\n",
    "empty_dict2 = dict()             # less Pythonic\n",
    "grades = {\"Joel\": 80, \"Tim\": 95} # dictionary literal"
   ]
  },
  {
   "cell_type": "markdown",
   "id": "52e99e02-0881-4ec6-bda6-c43564f7364f",
   "metadata": {},
   "source": [
    "check for the existence of a key using **in**"
   ]
  },
  {
   "cell_type": "code",
   "execution_count": 5,
   "id": "35844981-1fb5-4846-9074-05e3a3ef94a4",
   "metadata": {},
   "outputs": [],
   "source": [
    "joel_has_grade = \"Joel\" in grades   # True\n",
    "kate_has_grade = \"Kate\" in grades   # False"
   ]
  },
  {
   "cell_type": "markdown",
   "id": "148ea773-3aca-4396-acaf-fc292338d00d",
   "metadata": {},
   "source": [
    "use **get** method to return a default value (instead of raising an exception)"
   ]
  },
  {
   "cell_type": "code",
   "execution_count": 6,
   "id": "1e675881-b05c-40c1-a2e9-a305eda0f3dd",
   "metadata": {},
   "outputs": [],
   "source": [
    "joels_grade = grades.get(\"Joel\", 0)  # equals 80\n",
    "kates_grade = grades.get(\"Kate\", 0)  # equals 0\n",
    "no_ones_grade = grades.get(\"No one\") # equals None"
   ]
  },
  {
   "cell_type": "markdown",
   "id": "402c815f-21e6-4949-be3c-64b33647bea7",
   "metadata": {},
   "source": [
    "use dictionaries to represent structured data"
   ]
  },
  {
   "cell_type": "code",
   "execution_count": 9,
   "id": "1b29db90-5eb7-45b8-917e-bfa127f5dd93",
   "metadata": {},
   "outputs": [],
   "source": [
    "tweet = {\n",
    "    \"user\": \"joelgrus\",\n",
    "    \"text\" : \"Data Science is Awesome\",\n",
    "    \"retweet_count\": 100,\n",
    "    \"hashtags\": [\"#data\", \"#science\", \"#datascience\", \"#awesome\", \"#yolo\"]\n",
    "}"
   ]
  },
  {
   "cell_type": "code",
   "execution_count": 11,
   "id": "bed3e3bb-08fc-4dd2-a3e4-ac33dae4d06d",
   "metadata": {},
   "outputs": [
    {
     "data": {
      "text/plain": [
       "True"
      ]
     },
     "execution_count": 11,
     "metadata": {},
     "output_type": "execute_result"
    }
   ],
   "source": [
    "tweet_keys = tweet.keys()      # iterable for the keys\n",
    "tweet_values = tweet.values()  # iterable for the values\n",
    "tweet_items = tweet.items()    # iterable for the (key, value) tuples\n",
    "\n",
    "\"user\" in tweet_keys           # True, but not Pythonic\n",
    "\"user\" in tweet                # Pythonic way for checking for keys\n",
    "\"joelgrus\" in tweet_values     # True (slow but the only way to check)"
   ]
  },
  {
   "cell_type": "markdown",
   "id": "60cd96c6-3cd4-4467-98fe-7b7db533cc85",
   "metadata": {},
   "source": [
    "### defaultdict"
   ]
  },
  {
   "cell_type": "markdown",
   "id": "11a61632-4ef3-447e-850c-0120821e7648",
   "metadata": {},
   "source": [
    "like dictionaries, except when you try to look up a key it doesn't contain, it first adds a value to it using a provided argument"
   ]
  },
  {
   "cell_type": "code",
   "execution_count": 14,
   "id": "a809c060-1b80-44bf-a0da-116a2598d309",
   "metadata": {},
   "outputs": [],
   "source": [
    "from collections import defaultdict\n",
    "document = []\n",
    "\n",
    "word_counts = defaultdict(int)      # int() produces 0\n",
    "for word in document:\n",
    "    word_count += 1"
   ]
  },
  {
   "cell_type": "markdown",
   "id": "df503082-678a-456c-9761-c1cb7cad4f5f",
   "metadata": {},
   "source": [
    "can also be useful with **list** or **dict** or custom functions"
   ]
  },
  {
   "cell_type": "code",
   "execution_count": 17,
   "id": "bdbe79b0-82d0-47a9-964d-a5b2129caf7a",
   "metadata": {},
   "outputs": [],
   "source": [
    "dd_list = defaultdict(list)              # list() produces an empty list\n",
    "dd_list[2].append(1)                     # now dd_list contains {2: [1]}\n",
    "\n",
    "dd_dict = defaultdict(dict)              # dict() produces an empty list\n",
    "dd_dict[\"Joel\"][\"City\"] = \"Seattle\"      # {\"Joel\": {\"City\": \"Seattle\"}}\n",
    "\n",
    "dd_pair = defaultdict(lambda: [0, 0])\n",
    "dd_pair[2][1] = 1                        # now dd_pair contains {2: [0, 1]}"
   ]
  },
  {
   "cell_type": "markdown",
   "id": "d55c6915-a57b-415c-8987-11b595823b19",
   "metadata": {},
   "source": [
    "### Counters"
   ]
  },
  {
   "cell_type": "markdown",
   "id": "60fab567-8b37-4233-a775-6e7ff61b37d9",
   "metadata": {},
   "source": [
    "a **Counter** turns a sequence of values into **defaultdict(int)**-like object mapping keys to counts"
   ]
  },
  {
   "cell_type": "code",
   "execution_count": 18,
   "id": "1b7668cd-8358-4467-b9df-c91fa9a27156",
   "metadata": {},
   "outputs": [],
   "source": [
    "from collections import Counter\n",
    "c = Counter([0, 1, 2, 0])            # c is (basically) {0: 2, 1: 1, 2: 1}"
   ]
  },
  {
   "cell_type": "markdown",
   "id": "3d34db08-7f79-443b-adde-806bb38a66ec",
   "metadata": {},
   "source": [
    "gives a very simple solution to the word_counts problem:"
   ]
  },
  {
   "cell_type": "code",
   "execution_count": 19,
   "id": "b35bd187-6cba-44d3-a0a6-ad70109865f8",
   "metadata": {},
   "outputs": [],
   "source": [
    "word_counts = Counter(document)"
   ]
  },
  {
   "cell_type": "code",
   "execution_count": 20,
   "id": "8bf7a736-9ed2-4d6e-955a-c749c7815c50",
   "metadata": {},
   "outputs": [],
   "source": [
    "# print the 10 most common words and their counts:\n",
    "\n",
    "for word, count in word_counts.most_common(10):\n",
    "    print(word, count)"
   ]
  },
  {
   "cell_type": "markdown",
   "id": "72bb1990-91d6-47b0-9491-b7a1396dcaf6",
   "metadata": {},
   "source": [
    "### Sets"
   ]
  },
  {
   "cell_type": "markdown",
   "id": "5556f792-14e0-4bf5-9897-9efc3b6d2617",
   "metadata": {},
   "source": [
    "represents a collection of *distinct* elements"
   ]
  },
  {
   "cell_type": "code",
   "execution_count": 22,
   "id": "89b37fff-8840-4886-9a86-8433b95935d6",
   "metadata": {},
   "outputs": [],
   "source": [
    "primes_below_ten = {2, 3, 5, 7}"
   ]
  },
  {
   "cell_type": "code",
   "execution_count": 23,
   "id": "736b7a26-b8be-4d43-b275-a7a4b1fb6137",
   "metadata": {},
   "outputs": [],
   "source": [
    "s = set()     # empty set\n",
    "s.add(1)      # s is now {1}\n",
    "s.add(2)      # s is now {1, 2}\n",
    "s.add(2)      # s is still {1, 2}"
   ]
  },
  {
   "cell_type": "markdown",
   "id": "22beb861-dc51-4b70-8571-7338d99b37f7",
   "metadata": {},
   "source": [
    "* sets have very fast **in** operations\n",
    "* useful for finding all distinct items in a collection"
   ]
  },
  {
   "cell_type": "code",
   "execution_count": 24,
   "id": "c1a7ec07-3cf8-4008-9fec-6231ad216aad",
   "metadata": {},
   "outputs": [],
   "source": [
    "item_list = [1, 2, 3, 1, 2, 3]\n",
    "num_items = len(item_list)          # 6\n",
    "item_set = set(item_list)           # {1, 2, 3}\n",
    "num_distinct_items = len(item_set)  # 3"
   ]
  },
  {
   "cell_type": "markdown",
   "id": "9045bc60-7546-47ae-9280-619f8a6ffc46",
   "metadata": {},
   "source": [
    "### Control Flow"
   ]
  },
  {
   "cell_type": "code",
   "execution_count": 25,
   "id": "d9ea8b11-c179-4abc-9498-2cff2dc1c828",
   "metadata": {},
   "outputs": [],
   "source": [
    "#ternary if-then-else one liner\n",
    "parity = \"even\" if x % 2 == 0 else \"odd\""
   ]
  },
  {
   "cell_type": "code",
   "execution_count": 26,
   "id": "ea9dd7a1-8acf-4c50-ae36-6f7c680d55ba",
   "metadata": {},
   "outputs": [
    {
     "name": "stdout",
     "output_type": "stream",
     "text": [
      "0 is less than 10\n",
      "1 is less than 10\n",
      "2 is less than 10\n",
      "3 is less than 10\n",
      "4 is less than 10\n",
      "5 is less than 10\n",
      "6 is less than 10\n",
      "7 is less than 10\n",
      "8 is less than 10\n",
      "9 is less than 10\n"
     ]
    }
   ],
   "source": [
    "# for in loops\n",
    "for x in range(10):                #range (10) is the numbers 0, 1, 2, ..., 9\n",
    "    print(f\"{x} is less than 10\")"
   ]
  },
  {
   "cell_type": "markdown",
   "id": "da892f21-91e0-422e-b4d0-5611d2bfd2b5",
   "metadata": {},
   "source": [
    "### Truthiness"
   ]
  },
  {
   "cell_type": "markdown",
   "id": "b6282f28-10c5-49a7-8330-276b5c6d6f98",
   "metadata": {},
   "source": [
    "the following are all \"falsy\" in Python\n",
    "* False\n",
    "* None\n",
    "* [] (an empty list)\n",
    "* {} (an empty dict)\n",
    "* \"\"\n",
    "* set()\n",
    "* 0\n",
    "* 0.0"
   ]
  },
  {
   "cell_type": "code",
   "execution_count": 28,
   "id": "3fd4fda2-b366-403f-8314-3776c6c2d232",
   "metadata": {},
   "outputs": [
    {
     "data": {
      "text/plain": [
       "False"
      ]
     },
     "execution_count": 28,
     "metadata": {},
     "output_type": "execute_result"
    }
   ],
   "source": [
    "all([True, 1, {3}])  # True, all are truthy\n",
    "all([True, 1, {}])   # False, {} is falsy\n",
    "\n",
    "any([True, 1, {}])   # True, True is truthy\n",
    "\n",
    "all([])              # True, no falsy elements in the list\n",
    "any([])              # False, no truthy elements in the list"
   ]
  },
  {
   "cell_type": "markdown",
   "id": "16e6bcb9-b762-4c8e-bb00-2e3466dbcf41",
   "metadata": {},
   "source": [
    "### Sorting"
   ]
  },
  {
   "cell_type": "markdown",
   "id": "d07e5502-fca0-4f96-887d-0b1a20e2ecd3",
   "metadata": {},
   "source": [
    "* **sort** sorts a list in place\n",
    "* **sorted** returns a new sorted list"
   ]
  },
  {
   "cell_type": "code",
   "execution_count": 29,
   "id": "d497a032-26d2-4b2d-b43a-642a0ad44291",
   "metadata": {},
   "outputs": [],
   "source": [
    "x = [4, 1, 3, 2]\n",
    "y = sorted(x)     # y is [1, 2, 3, 4], x is unchanged\n",
    "x.sort()          # x is now [1, 2, 3, 4]"
   ]
  },
  {
   "cell_type": "code",
   "execution_count": 31,
   "id": "7bb53d1d-8e27-4ac4-b25e-0f0c871e666a",
   "metadata": {},
   "outputs": [
    {
     "name": "stdout",
     "output_type": "stream",
     "text": [
      "[-4, 3, -2, 1]\n"
     ]
    }
   ],
   "source": [
    "# sort the list by absolute value from largest to smallest\n",
    "x = sorted([-4, 1, -2, 3], key=abs, reverse=True)\n",
    "print(x)"
   ]
  },
  {
   "cell_type": "code",
   "execution_count": 32,
   "id": "8fc3b170-7784-499a-82b2-c8632d8e90b3",
   "metadata": {},
   "outputs": [],
   "source": [
    "# sort the words and counts from highest count to lowest\n",
    "wc = sorted(word_counts.items(),\n",
    "            key=lambda word_and_count: word_and_count[1],\n",
    "            reverse=True)"
   ]
  },
  {
   "cell_type": "markdown",
   "id": "9aea4375-2c29-4150-a97c-5b911494e7fc",
   "metadata": {},
   "source": [
    "### List Comprehensions"
   ]
  },
  {
   "cell_type": "code",
   "execution_count": 33,
   "id": "95ce0f18-c157-4a2b-9527-548a0942634d",
   "metadata": {},
   "outputs": [],
   "source": [
    "even_numbers = [x for x in range(5) if x% 2 == 0]   # [0, 2, 4]\n",
    "squares      = [x * x for x in range(5)]            # [0, 1, 4, 9, 16]\n",
    "even_squares = [x * x for x in even_numbers]        # [0, 4, 16]"
   ]
  },
  {
   "cell_type": "markdown",
   "id": "e8075f78-fa7a-4370-80d3-5537483e3996",
   "metadata": {},
   "source": [
    "you can also turn lists into dictionaries or sets"
   ]
  },
  {
   "cell_type": "code",
   "execution_count": 34,
   "id": "8572e967-9341-477e-98f7-499957ea0a1d",
   "metadata": {},
   "outputs": [],
   "source": [
    "square_dict = {x: x * x for x in range(5)}    # {0: 0, 1: 1, 2: 4, 3: 9, 4: 16}\n",
    "square_set = {x * x for x in [1, -1]}         # {1}"
   ]
  },
  {
   "cell_type": "code",
   "execution_count": 35,
   "id": "e79d645f-d355-4e73-b717-cf7f8186a436",
   "metadata": {},
   "outputs": [],
   "source": [
    "zeros = [0 for _ in even_numbers]  # list of zeros with same length as even_numbers"
   ]
  },
  {
   "cell_type": "markdown",
   "id": "7c48332b-47de-42c2-9962-99cc5d24e33d",
   "metadata": {},
   "source": [
    "a list comprehension can use multiple **for**s"
   ]
  },
  {
   "cell_type": "code",
   "execution_count": 36,
   "id": "334ede39-8362-4bcc-bc5c-e49c48414c60",
   "metadata": {},
   "outputs": [],
   "source": [
    "pairs = [(x, y)\n",
    "         for x in range(10)\n",
    "         for y in range(10)]   #100 pairs (0,0), (0, 1), ... (9, 8), (9, 9)"
   ]
  },
  {
   "cell_type": "markdown",
   "id": "2f9a1fe4-365b-46bc-9c0d-14e545d1f1f3",
   "metadata": {},
   "source": [
    "and later **for**s can use the results of earlier ones"
   ]
  },
  {
   "cell_type": "code",
   "execution_count": 38,
   "id": "fcdf4a14-38e4-4ee7-830a-de462a5c3cdf",
   "metadata": {},
   "outputs": [
    {
     "name": "stdout",
     "output_type": "stream",
     "text": [
      "[(0, 1), (0, 2), (0, 3), (0, 4), (0, 5), (0, 6), (0, 7), (0, 8), (0, 9), (1, 2), (1, 3), (1, 4), (1, 5), (1, 6), (1, 7), (1, 8), (1, 9), (2, 3), (2, 4), (2, 5), (2, 6), (2, 7), (2, 8), (2, 9), (3, 4), (3, 5), (3, 6), (3, 7), (3, 8), (3, 9), (4, 5), (4, 6), (4, 7), (4, 8), (4, 9), (5, 6), (5, 7), (5, 8), (5, 9), (6, 7), (6, 8), (6, 9), (7, 8), (7, 9), (8, 9)]\n"
     ]
    }
   ],
   "source": [
    "increasing_pairs = [(x, y)\n",
    "                    for x in range(10)\n",
    "                    for y in range(x+1, 10)] # only pairs with x < y, range(lo, hi) equals [lo, lo + 1, ..., hi - 1]\n",
    "print(increasing_pairs)"
   ]
  },
  {
   "cell_type": "markdown",
   "id": "a63732af-bc1c-4579-b4ef-78e71a70b90b",
   "metadata": {},
   "source": [
    "### Automated Testing and assert"
   ]
  },
  {
   "cell_type": "markdown",
   "id": "3c25da38-44f0-48b5-916b-42a1fc617f30",
   "metadata": {},
   "source": [
    "**assert** statements cause your code to raise an **AssertionError** if your specified condition is not truthy"
   ]
  },
  {
   "cell_type": "code",
   "execution_count": 39,
   "id": "0fcb89f0-f31d-49db-91d8-a3e0b1ac83a3",
   "metadata": {},
   "outputs": [],
   "source": [
    "assert 1 + 1 == 2\n",
    "assert 1 + 1 == 2, \"1 + 1 should equal 2 but didn't\""
   ]
  },
  {
   "cell_type": "code",
   "execution_count": 40,
   "id": "5f4502b1-ff93-49f8-9fc6-d71301770aa6",
   "metadata": {},
   "outputs": [],
   "source": [
    "def smallest_item(xs):\n",
    "    return min(xs)\n",
    "\n",
    "assert smallest_item([10, 25, 5, 40]) == 5\n",
    "assert smallest_item([1, 0, -1, 2]) == -1"
   ]
  },
  {
   "cell_type": "markdown",
   "id": "b74c059e-453c-4fcd-ada5-8335bd40c57a",
   "metadata": {},
   "source": [
    "### Object Oriented Programming"
   ]
  },
  {
   "cell_type": "markdown",
   "id": "bd234288-3e53-4ca8-95e9-6f08a863d5c7",
   "metadata": {},
   "source": [
    "* like many other languages, Python allows you to define *classes* that encapsulate data and the functions that operate on them\n",
    "* for this example, we'll construct a class representing a \"counting clicker\" the sort that is used at the door to track how many people have shown up for the \"advanced topics in data science\" meetup"
   ]
  },
  {
   "cell_type": "markdown",
   "id": "e920f7b8-cedf-4ae6-812c-c25360a1abff",
   "metadata": {},
   "source": [
    "* it maintains a **count**\n",
    "* can be **clicked** to increment the count\n",
    "* allows you to **read_count**\n",
    "* can be **reset** back to zero"
   ]
  },
  {
   "cell_type": "markdown",
   "id": "3ab4f141-19af-4665-9baa-2b45a62fec46",
   "metadata": {},
   "source": [
    "To define a class, you use the **class** keyword and PascalCase name:"
   ]
  },
  {
   "cell_type": "code",
   "execution_count": 45,
   "id": "e40cfd53-5a50-495f-96ad-e849b00d82c7",
   "metadata": {},
   "outputs": [],
   "source": [
    "class CountingClicker:\n",
    "    \"\"\" a class can/should have a docstring, just like a function\"\"\"\n",
    "    def __init__(self, count = 0):\n",
    "        self.count = count"
   ]
  },
  {
   "cell_type": "markdown",
   "id": "573861d2-ed3c-4c06-af52-793cd7a96209",
   "metadata": {},
   "source": [
    "A class contains zero or more *member* functions. By convention, each takes a first parameter, **self**, that refers to the particular class instance"
   ]
  },
  {
   "cell_type": "markdown",
   "id": "0d65f2fd-b062-402f-af74-d56ea70e0ab6",
   "metadata": {},
   "source": [
    "Normally, a class has a constructor, named **__init__**. It takes whatever parameters you ned to construct an instance of your class and does whatever setup you need."
   ]
  },
  {
   "cell_type": "markdown",
   "id": "3935480c-114a-4ceb-93c4-46798a6490ed",
   "metadata": {},
   "source": [
    "Class methods that start with an underscore, or two (\"dunder methods\"), are--by convention--considered \"private\""
   ]
  },
  {
   "cell_type": "markdown",
   "id": "16691b56-7f14-45c5-8646-f09805509293",
   "metadata": {},
   "source": [
    "We construct instances of the clicker using just the class name:"
   ]
  },
  {
   "cell_type": "code",
   "execution_count": 46,
   "id": "f69748c8-de02-46e3-9166-9d265a47d4d1",
   "metadata": {},
   "outputs": [],
   "source": [
    "clicker1 = CountingClicker()     # initialized to 0\n",
    "clicker2 = CountingClicker(100)  # starts with count=100\n",
    "clicker3 = CountingClicker(count=100) # more explicit way of doing the same"
   ]
  },
  {
   "cell_type": "markdown",
   "id": "647eb774-baf7-460f-a44f-32c8ddf2b4f1",
   "metadata": {},
   "source": [
    "The **__repr__** method produces the string representation of class instance:"
   ]
  },
  {
   "cell_type": "code",
   "execution_count": 47,
   "id": "d7629cfd-908e-40bb-bcd6-b0d72963b084",
   "metadata": {},
   "outputs": [],
   "source": [
    "def __repr__(self):\n",
    "    return f\"CountingClickr(count={self.count})\""
   ]
  },
  {
   "cell_type": "markdown",
   "id": "38089ed6-7be9-4e07-905e-b0fef66aeb03",
   "metadata": {},
   "source": [
    "And finally we need to implement the *public API* of our class:"
   ]
  },
  {
   "cell_type": "code",
   "execution_count": 48,
   "id": "4373a018-2f3f-469a-9f16-1605aa2c4f4f",
   "metadata": {},
   "outputs": [],
   "source": [
    "def click(self, num_times = 1):\n",
    "    \"\"\"Click the clicker some number of times\"\"\"\n",
    "    self.count += num_times\n",
    "\n",
    "def read(self):\n",
    "    return self.count\n",
    "\n",
    "def reset(self):\n",
    "    self.count = 0"
   ]
  },
  {
   "cell_type": "markdown",
   "id": "4f5f93da-be0b-470f-9238-7836d3e8d14f",
   "metadata": {},
   "source": [
    "We'll also occasionally create *subclasses* that *inherit* some of their functionality from a parent class"
   ]
  },
  {
   "cell_type": "code",
   "execution_count": 49,
   "id": "c4dd0518-dc51-4bed-9bc9-dca4050bb908",
   "metadata": {},
   "outputs": [],
   "source": [
    "# A subclass inherits all the behavior of its parent class\n",
    "class NoResetClicker(CountingClicker):\n",
    "    #This class has all the same methods as CountingClicker\n",
    "    \n",
    "    #Except that it has a reset method that does nothing\n",
    "    def reset(self):\n",
    "        pass"
   ]
  },
  {
   "cell_type": "markdown",
   "id": "c68d2de3-4b20-45b6-a35a-f4082cab8858",
   "metadata": {},
   "source": [
    "### Iterables and Generators"
   ]
  },
  {
   "cell_type": "markdown",
   "id": "94a0a18a-40a2-4989-9e07-3a1f386d8a31",
   "metadata": {},
   "source": [
    "* a list of a billion numbers takes up a lot of memory\n",
    "* if you only want the elements, one at a time, there's no good reason to keep them all around\n",
    "* often all we need to is to iterate over the collection using **for** and **in**\n",
    "* in this case we can create **generators**, which can be iterated over just like lists but generate their values lazily on demand"
   ]
  },
  {
   "cell_type": "markdown",
   "id": "941361c4-b54b-48e1-8a89-e0f7cf08dcd8",
   "metadata": {},
   "source": [
    "One way to create generators is with functions and the **yield** operator"
   ]
  },
  {
   "cell_type": "code",
   "execution_count": 50,
   "id": "809ebcbd-a838-4822-a4d8-ad953b90aed7",
   "metadata": {},
   "outputs": [],
   "source": [
    "def generate_range(n):\n",
    "    i = 0\n",
    "    while i < n:\n",
    "        yield i     # every call to yield produces a value of the generator\n",
    "        i += 1"
   ]
  },
  {
   "cell_type": "code",
   "execution_count": 51,
   "id": "ff927a7d-6c49-437f-a8ab-f30f52a496b1",
   "metadata": {},
   "outputs": [
    {
     "name": "stdout",
     "output_type": "stream",
     "text": [
      "i: 0\n",
      "i: 1\n",
      "i: 2\n",
      "i: 3\n",
      "i: 4\n",
      "i: 5\n",
      "i: 6\n",
      "i: 7\n",
      "i: 8\n",
      "i: 9\n"
     ]
    }
   ],
   "source": [
    "for i in generate_range(10):\n",
    "    print(f\"i: {i}\")"
   ]
  },
  {
   "cell_type": "markdown",
   "id": "912b0704-e9cf-4710-9421-e9314b51ee65",
   "metadata": {},
   "source": [
    "* **range** is itself a lazy generator"
   ]
  },
  {
   "cell_type": "code",
   "execution_count": 55,
   "id": "96b7ec82-608b-45fc-8f76-8b7c261a5b2d",
   "metadata": {},
   "outputs": [],
   "source": [
    "def natural_numbers():\n",
    "    i = 0\n",
    "    while True:\n",
    "        yield i\n",
    "        i += 1"
   ]
  },
  {
   "cell_type": "markdown",
   "id": "62407851-cd2e-4d1d-8597-028abc199108",
   "metadata": {},
   "source": [
    "The flip side of laziness is that you can only iterate through a generate once. If you need to iterate through something multiple times, you'll need to recreate the generator or use a list."
   ]
  },
  {
   "cell_type": "markdown",
   "id": "cf52c959-c1ef-457b-90b4-8b3c77af562a",
   "metadata": {},
   "source": [
    "A second way to create generators is by using **for** comprehensions wrapped in parentheses:"
   ]
  },
  {
   "cell_type": "code",
   "execution_count": 56,
   "id": "690c8a8c-cd94-46bc-a163-cb79b2d92192",
   "metadata": {},
   "outputs": [],
   "source": [
    "evens_below_20 = (i for i in generate_range(20) if i % 2 == 0)"
   ]
  },
  {
   "cell_type": "code",
   "execution_count": 58,
   "id": "fcf8055f-0723-4ce3-81bb-df09e7e5ae4b",
   "metadata": {},
   "outputs": [],
   "source": [
    "# None of these computations *does* anything until we iterate\n",
    "data = natural_numbers()\n",
    "evens = (x for x in data if x % 2 == 0)\n",
    "even_squares = (x ** 2 for x in evens)\n",
    "even_squares_ending_in_six = (x for x in even_squares if x % 10 == 6)"
   ]
  },
  {
   "cell_type": "markdown",
   "id": "01919615-c761-4b50-acaa-93648df4aa5c",
   "metadata": {},
   "source": [
    "* **enumerate** lets us iterate over a list/generator with values and their indices"
   ]
  },
  {
   "cell_type": "code",
   "execution_count": 61,
   "id": "112162ff-80af-40d4-b072-dc6d7ba5d6ac",
   "metadata": {},
   "outputs": [
    {
     "name": "stdout",
     "output_type": "stream",
     "text": [
      "name 0 is Alice\n",
      "name 1 is Bob\n",
      "name 2 is Charlie\n",
      "name 3 is Debbie\n"
     ]
    }
   ],
   "source": [
    "names = [\"Alice\", \"Bob\", \"Charlie\", \"Debbie\"]\n",
    "for i, name in enumerate(names):\n",
    "    print(f\"name {i} is {names[i]}\")"
   ]
  },
  {
   "cell_type": "markdown",
   "id": "042c558a-a34b-460a-93dd-888df8e9dcaa",
   "metadata": {},
   "source": [
    "### Randomness"
   ]
  },
  {
   "cell_type": "markdown",
   "id": "b2c04c22-dc8e-4269-9dbd-9eebd56ca25f",
   "metadata": {},
   "source": [
    "In data science we frequently need to generate random numbers, which we can do with the **random** module:"
   ]
  },
  {
   "cell_type": "code",
   "execution_count": 63,
   "id": "466cb7bb-61ab-4d11-9693-3b2152f61e34",
   "metadata": {},
   "outputs": [
    {
     "name": "stdout",
     "output_type": "stream",
     "text": [
      "[0.5714025946899135, 0.4288890546751146, 0.5780913011344704, 0.20609823213950174]\n"
     ]
    }
   ],
   "source": [
    "import random\n",
    "random.seed(10) # this ensures we get the same results every time\n",
    "\n",
    "four_uniform_randoms = [random.random() for _ in range(4)]\n",
    "print(four_uniform_randoms)"
   ]
  },
  {
   "cell_type": "markdown",
   "id": "a5ae343c-b685-45d4-b98e-a2f7ce6d71dd",
   "metadata": {},
   "source": [
    "* the **random** module actually produces *pseudorandom* (that is, deterministic) numbers based on an internal state that you can set with **random.seed** if you want to get reproducible results"
   ]
  },
  {
   "cell_type": "code",
   "execution_count": 66,
   "id": "801649e1-8d8c-4da9-bc61-b8d55e67ff80",
   "metadata": {},
   "outputs": [
    {
     "data": {
      "text/plain": [
       "5"
      ]
     },
     "execution_count": 66,
     "metadata": {},
     "output_type": "execute_result"
    }
   ],
   "source": [
    "random.randrange(10) # choose randomly from range(10) = [0, 1, 2, ..., 9]\n",
    "random.randrange(3, 6) # choose randomly from range(3,6) = [3, 4, 5]"
   ]
  },
  {
   "cell_type": "markdown",
   "id": "81e7689e-37dd-4f3d-88d4-4b4490eebd1e",
   "metadata": {},
   "source": [
    "* **random.shuffle** randomly reorders the elements of a list"
   ]
  },
  {
   "cell_type": "code",
   "execution_count": 68,
   "id": "2115592a-72dc-43fa-97d3-642586dc21b8",
   "metadata": {},
   "outputs": [
    {
     "name": "stdout",
     "output_type": "stream",
     "text": [
      "[4, 5, 6, 7, 2, 9, 10, 8, 1, 3]\n"
     ]
    }
   ],
   "source": [
    "up_to_ten = [1, 2, 3, 4, 5, 6, 7, 8, 9, 10]\n",
    "random.shuffle(up_to_ten)\n",
    "print(up_to_ten)"
   ]
  },
  {
   "cell_type": "code",
   "execution_count": 70,
   "id": "f25378fc-7fd7-4381-bcf2-8c6883496599",
   "metadata": {},
   "outputs": [
    {
     "name": "stdout",
     "output_type": "stream",
     "text": [
      "Alice\n"
     ]
    }
   ],
   "source": [
    "my_best_friend = random.choice([\"Alice\", \"Bob\", \"Charlie\"])\n",
    "print(my_best_friend)"
   ]
  },
  {
   "cell_type": "markdown",
   "id": "f93a8d4e-9eb5-4098-b2f1-93f5c4761c8f",
   "metadata": {},
   "source": [
    "If you need to choose a sample of elements without replacement, use **random.sample**"
   ]
  },
  {
   "cell_type": "code",
   "execution_count": 71,
   "id": "f8bc5332-9046-488f-a223-e8f501e5c98c",
   "metadata": {},
   "outputs": [
    {
     "name": "stdout",
     "output_type": "stream",
     "text": [
      "[38, 22, 24, 26, 18, 52]\n"
     ]
    }
   ],
   "source": [
    "lottery_numbers = range(60)\n",
    "winning_numbers = random.sample(lottery_numbers, 6)\n",
    "print(winning_numbers)"
   ]
  },
  {
   "cell_type": "markdown",
   "id": "46713f57-1319-4020-98f5-1ccc6d006b12",
   "metadata": {},
   "source": [
    "* To choose a sample of elements *with* replacement, just make multiple calls to **random.choice**"
   ]
  },
  {
   "cell_type": "markdown",
   "id": "235e69a6-017b-414a-a164-ecc546b27112",
   "metadata": {},
   "source": [
    "### Regular Expressions"
   ]
  },
  {
   "cell_type": "markdown",
   "id": "c2f0d061-a708-4453-bd42-a15a95f74038",
   "metadata": {},
   "source": [
    "Examples:"
   ]
  },
  {
   "cell_type": "code",
   "execution_count": 77,
   "id": "f70beaf1-ae13-4e97-8376-1a61c41e84e0",
   "metadata": {},
   "outputs": [],
   "source": [
    "import re\n",
    "\n",
    "re_exapmles = [                             # all of these are True, because\n",
    "    not re.match(\"a\", \"cat\"),               # 'cat' doesn't start with 'a'\n",
    "    re.search(\"a\", \"cat\"),                  # 'cat' has an 'a' in it\n",
    "    not re.search(\"c\", \"dog\"),              # 'dog' doesn't have a 'c' in it\n",
    "    3 == len(re.split(\"[ab]\", \"carbs\")),    # Split on a or b to ['c', 'r', 's']\n",
    "    \"R-D-\" == re.sub(\"[0-9]\", \"-\", \"R2D2\")  # Replace digits with dashes\n",
    "]"
   ]
  },
  {
   "cell_type": "code",
   "execution_count": 78,
   "id": "cbf836b1-6a8b-44fc-92e0-9842b592c1aa",
   "metadata": {},
   "outputs": [],
   "source": [
    "assert all(re_exapmles), \"all the regex examples should be True\""
   ]
  },
  {
   "cell_type": "markdown",
   "id": "7037972b-f2f6-4984-b398-d0cb5c38d52c",
   "metadata": {},
   "source": [
    "### zip and Argument Unpacking"
   ]
  },
  {
   "cell_type": "markdown",
   "id": "b5393e11-19d6-428c-95ad-9d2bf59207b5",
   "metadata": {},
   "source": [
    "The **zip** functions transforms multiple iterables into a single iterable of tuples of corresponding function:"
   ]
  },
  {
   "cell_type": "code",
   "execution_count": 81,
   "id": "03b666ac-717c-451e-a4d7-fd8ecd240ed7",
   "metadata": {},
   "outputs": [
    {
     "name": "stdout",
     "output_type": "stream",
     "text": [
      "[('a', 1), ('b', 2), ('c', 3)]\n"
     ]
    }
   ],
   "source": [
    "list1 = ['a', 'b', 'c']\n",
    "list2 = [1, 2, 3]\n",
    "\n",
    "#zip is lazy, so you have to do something like the following\n",
    "pairs = [pair for pair in zip(list1, list2)]\n",
    "print(pairs)"
   ]
  },
  {
   "cell_type": "markdown",
   "id": "b4843c75-0b58-41a2-a766-479e70cc56b4",
   "metadata": {},
   "source": [
    "* if the lists are different lengths, **zip** stops as soon as the first list ends"
   ]
  },
  {
   "cell_type": "markdown",
   "id": "e25ca8f7-62e5-480f-8914-cc11005cf7b1",
   "metadata": {},
   "source": [
    "You can also \"unzip\" a list using a strange trick:"
   ]
  },
  {
   "cell_type": "code",
   "execution_count": 82,
   "id": "21e5774a-50e0-4b89-b7db-ee5a6dd2feb2",
   "metadata": {},
   "outputs": [],
   "source": [
    "letters, numbers = zip(*pairs)"
   ]
  },
  {
   "cell_type": "markdown",
   "id": "479486c3-4a2b-4da6-bdea-af8034dd5be9",
   "metadata": {},
   "source": [
    "The asterisk (*) performs *argument unpacking*, which uses the elements of pairs as individual arguments to **zip**. It ends up the as if you called:"
   ]
  },
  {
   "cell_type": "code",
   "execution_count": 83,
   "id": "293982d1-2e6a-4c51-b340-d664aeeb22d8",
   "metadata": {},
   "outputs": [],
   "source": [
    "letters, numbers = zip(('a', 1), ('b', 2), ('c', 3))"
   ]
  },
  {
   "cell_type": "markdown",
   "id": "edd960d2-bf5e-4b4d-90b0-fc64bf00b67c",
   "metadata": {},
   "source": [
    "### args and kwargs"
   ]
  },
  {
   "cell_type": "markdown",
   "id": "11cd93c5-b966-4e54-9cbb-aee74b462394",
   "metadata": {},
   "source": [
    "if we want to specify a function that takes arbitrary arguemnts, we can do this with arguments unpacking using **args** and **kwargs**"
   ]
  },
  {
   "cell_type": "code",
   "execution_count": 84,
   "id": "05d48b37-8396-4316-83e6-66f0ee655b16",
   "metadata": {},
   "outputs": [],
   "source": [
    "def magic(*args, **kwargs):\n",
    "    print(\"unnamed args:\", args)\n",
    "    print(\"keyword args:\", kwargs)"
   ]
  },
  {
   "cell_type": "code",
   "execution_count": 85,
   "id": "e64f87aa-fb13-4ca1-bc1a-be4821581627",
   "metadata": {},
   "outputs": [
    {
     "name": "stdout",
     "output_type": "stream",
     "text": [
      "unnamed args: (1, 2)\n",
      "keyword args: {'key': 'word', 'key2': 'word2'}\n"
     ]
    }
   ],
   "source": [
    "magic(1, 2, key=\"word\", key2=\"word2\")"
   ]
  },
  {
   "cell_type": "markdown",
   "id": "58eb9ff7-ba65-4c6b-aab3-1a00d16b42f4",
   "metadata": {},
   "source": [
    "* when we define a function like this, **args** is a tuple of its unnamed arguments, and **kwargs** is a **dict** of its named arguments\n",
    "* it works the other way too. if you want to use a **list** (or **tuple**) and **dict** to *supply* arguments to a function:"
   ]
  },
  {
   "cell_type": "code",
   "execution_count": 86,
   "id": "edfd340d-76b5-4636-84c3-e379ef0ec9f9",
   "metadata": {},
   "outputs": [],
   "source": [
    "def other_way_magic(x, y, z):\n",
    "    return x + y + z"
   ]
  },
  {
   "cell_type": "code",
   "execution_count": 88,
   "id": "0fd76bea-f42c-4023-af25-ebcd7cea7ace",
   "metadata": {},
   "outputs": [],
   "source": [
    "x_y_list = [1, 2]\n",
    "z_dict = {\"z\": 3}\n",
    "assert other_way_magic(*x_y_list, **z_dict) == 6"
   ]
  },
  {
   "cell_type": "markdown",
   "id": "027563a6-37cd-42ab-a076-5f273753b4fa",
   "metadata": {},
   "source": [
    "Useful for creating higher-order functions whose inputs can accept arbitrary arguments:"
   ]
  },
  {
   "cell_type": "code",
   "execution_count": 89,
   "id": "5a08c287-674d-438a-84a6-3940b68e8660",
   "metadata": {},
   "outputs": [],
   "source": [
    "def double_correct(f):\n",
    "    \"\"\" works no matter what kind of input f expects \"\"\"\n",
    "    def g(*args, **kwargs):\n",
    "        \"\"\" whatever arguments g is supplied, pass them along to f \"\"\"\n",
    "        return   2 * f(*args, **kwargs)\n",
    "    return g"
   ]
  },
  {
   "cell_type": "markdown",
   "id": "1f195e97-b16b-45fb-b371-153df48f32f8",
   "metadata": {},
   "source": [
    "### Type Annotations"
   ]
  },
  {
   "cell_type": "markdown",
   "id": "a60530ae-0e2a-43df-8d33-86514971b706",
   "metadata": {},
   "source": [
    "* Python is a *dynamically typed* language. That means in general it doesn't care about the types of objects we use, as long as we use them in valid ways\n",
    "* Type hinting in Python is useful for a number of reasons, even if it doesn't affect the functionality of the code"
   ]
  },
  {
   "cell_type": "markdown",
   "id": "848fb957-dd94-47e6-bfa6-62fb15c4635c",
   "metadata": {},
   "source": [
    "For built-in types like **int** and **bool** and **float**, you just use the type itself as the annotation"
   ]
  },
  {
   "cell_type": "code",
   "execution_count": 92,
   "id": "0aef4c30-9093-404e-b771-63c801254a14",
   "metadata": {},
   "outputs": [],
   "source": [
    "def sample_annotation(x: int, y: float) -> bool:\n",
    "    return x < y"
   ]
  },
  {
   "cell_type": "markdown",
   "id": "780bdc38-cb97-4b8b-af90-d60e7f05fa28",
   "metadata": {},
   "source": [
    "For lists where you want the elements to be a specific type, use the **typing** module"
   ]
  },
  {
   "cell_type": "code",
   "execution_count": 94,
   "id": "938a9640-5730-41c2-9a6f-79e8120b6bd4",
   "metadata": {},
   "outputs": [],
   "source": [
    "from typing import List\n",
    "\n",
    "def total(xs: List[float]) -> float:\n",
    "    return sum(xs)"
   ]
  },
  {
   "cell_type": "markdown",
   "id": "1ffd9cf6-e04e-43e3-bb71-8abe508f1f28",
   "metadata": {},
   "source": [
    "Sometimes we want to use inline type hints when declaring variables"
   ]
  },
  {
   "cell_type": "code",
   "execution_count": 95,
   "id": "e152baa7-234f-44d5-8e76-7004670b0ff9",
   "metadata": {},
   "outputs": [],
   "source": [
    "from typing import Optional\n",
    "values : List[int] = []\n",
    "best_so_far: Optional[float] = None # allowed to be either a float or None"
   ]
  },
  {
   "cell_type": "markdown",
   "id": "82840a7a-b03a-4a9f-b052-67e1c3741860",
   "metadata": {},
   "source": [
    "Other examples:"
   ]
  },
  {
   "cell_type": "code",
   "execution_count": 97,
   "id": "73b2d745-a851-4e97-af7b-e952e8ec3263",
   "metadata": {},
   "outputs": [],
   "source": [
    "from typing import Dict, Iterable, Tuple"
   ]
  },
  {
   "cell_type": "markdown",
   "id": "825137df-30e1-4a98-92f8-82bf5b9a96d0",
   "metadata": {},
   "source": [
    "Finally, since Python has first-class functions, we need a type to represent those as well:"
   ]
  },
  {
   "cell_type": "code",
   "execution_count": 99,
   "id": "3c866de0-813d-4962-925e-d384dd5a8e88",
   "metadata": {},
   "outputs": [],
   "source": [
    "from typing import Callable\n",
    "\n",
    "# The type hint says that repeater is a function that takes \n",
    "# two arguments, a string and an int, and returns a string.\n",
    "\n",
    "def twice(repeater: Callable[[str, int], str], s: str) -> str:\n",
    "    return repeater(s, 2)\n",
    "          \n",
    "def comma_repeater(s: str, n: int) -> str:\n",
    "    n_copies = [s for _ in range(n)]\n",
    "    return ', '.join(n_copies)\n",
    "\n",
    "assert twice(comma_repeater, \"type hints\") == \"type hints, type hints\""
   ]
  },
  {
   "cell_type": "markdown",
   "id": "930fe9f2-b53f-4326-b98a-20a38d1107b4",
   "metadata": {},
   "source": [
    "Since type annotations are just Python objects, we can assign them to variables:"
   ]
  },
  {
   "cell_type": "code",
   "execution_count": 101,
   "id": "38469930-4999-46ee-ac48-07618d076783",
   "metadata": {},
   "outputs": [],
   "source": [
    "Number = int\n",
    "Numbers = List[Number]\n",
    "\n",
    "def total(xs: Numbers) -> Number:\n",
    "    return sum(xs)"
   ]
  },
  {
   "cell_type": "code",
   "execution_count": null,
   "id": "9470e700-f59a-4e17-b6a0-65981b92bd6f",
   "metadata": {},
   "outputs": [],
   "source": []
  }
 ],
 "metadata": {
  "kernelspec": {
   "display_name": "Python 3",
   "language": "python",
   "name": "python3"
  },
  "language_info": {
   "codemirror_mode": {
    "name": "ipython",
    "version": 3
   },
   "file_extension": ".py",
   "mimetype": "text/x-python",
   "name": "python",
   "nbconvert_exporter": "python",
   "pygments_lexer": "ipython3",
   "version": "3.6.13"
  }
 },
 "nbformat": 4,
 "nbformat_minor": 5
}

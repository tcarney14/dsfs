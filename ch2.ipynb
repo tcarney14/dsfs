{
 "cells": [
  {
   "cell_type": "markdown",
   "id": "07a0fbc6-d861-4d01-bb2d-89dd32d4e521",
   "metadata": {},
   "source": [
    "### Strings"
   ]
  },
  {
   "cell_type": "markdown",
   "id": "a21c311a-061a-45bf-abc9-ce57f85295cc",
   "metadata": {},
   "source": [
    "*f-string* provides a simple way to substitute values into string"
   ]
  },
  {
   "cell_type": "code",
   "execution_count": 1,
   "id": "0a15990c-f660-4dc2-bfe7-d825adf8dd49",
   "metadata": {},
   "outputs": [],
   "source": [
    "first_name = \"Tucker\"\n",
    "last_name = \"Carney\""
   ]
  },
  {
   "cell_type": "code",
   "execution_count": 4,
   "id": "43571fa7-1be6-4503-b424-e071ddef84de",
   "metadata": {},
   "outputs": [
    {
     "name": "stdout",
     "output_type": "stream",
     "text": [
      "Tucker Carney\n",
      "Tucker Carney\n"
     ]
    }
   ],
   "source": [
    "full_name1 = first_name + \" \" + last_name #string addition\n",
    "full_name2 = \"{0} {1}\".format(first_name, last_name) #string.format\n",
    "\n",
    "print(full_name1)\n",
    "print(full_name2)"
   ]
  },
  {
   "cell_type": "markdown",
   "id": "4a00cbb1-51d9-4306-bb5e-88fdedc25222",
   "metadata": {},
   "source": [
    "but the f-string way is much less unwieldy"
   ]
  },
  {
   "cell_type": "code",
   "execution_count": 5,
   "id": "a83e850b-0bae-413f-83c0-ae13e0a19b12",
   "metadata": {},
   "outputs": [
    {
     "name": "stdout",
     "output_type": "stream",
     "text": [
      "Tucker Carney\n"
     ]
    }
   ],
   "source": [
    "full_name3 = f\"{first_name} {last_name}\"\n",
    "print(full_name3)"
   ]
  },
  {
   "cell_type": "markdown",
   "id": "4218c1d0-5a87-4807-a4af-e724f5b98bce",
   "metadata": {},
   "source": [
    "### Exceptions"
   ]
  },
  {
   "cell_type": "code",
   "execution_count": 6,
   "id": "48373af2-0969-4eb5-b6c5-faecf5596e5a",
   "metadata": {},
   "outputs": [
    {
     "name": "stdout",
     "output_type": "stream",
     "text": [
      "cannot divide by zero\n"
     ]
    }
   ],
   "source": [
    "try:\n",
    "    print(0 / 0)\n",
    "except ZeroDivisionError:\n",
    "    print(\"cannot divide by zero\")"
   ]
  },
  {
   "cell_type": "markdown",
   "id": "1f2b9820-1e42-4c6c-b824-2a5c4cb3abaf",
   "metadata": {},
   "source": [
    "### Lists"
   ]
  },
  {
   "cell_type": "code",
   "execution_count": 9,
   "id": "b0b7f5b9-e350-403a-9682-967387474db6",
   "metadata": {},
   "outputs": [],
   "source": [
    "integer_list = [1, 2, 3]\n",
    "heterogenous_list = [\"string\", 0.1, True]\n",
    "list_of_lists = [integer_list, heterogenous_list, []]"
   ]
  },
  {
   "cell_type": "code",
   "execution_count": 10,
   "id": "2e8ba83e-0454-496c-96dd-d2ba44d66724",
   "metadata": {},
   "outputs": [],
   "source": [
    "list_length = len(integer_list) # equals 3\n",
    "list_sum = sum(integer_list) # equals 6"
   ]
  },
  {
   "cell_type": "markdown",
   "id": "df7b5927-05fe-42bd-a8d5-c7478b283517",
   "metadata": {},
   "source": [
    "you can get the *n*th element of a list with square brackets"
   ]
  },
  {
   "cell_type": "code",
   "execution_count": 11,
   "id": "e7a7e221-2291-491b-9d0d-89701f996d82",
   "metadata": {},
   "outputs": [],
   "source": [
    "x = [0, 1, 2, 3, 4, 5, 6, 7, 8, 9]\n",
    "\n",
    "zero = x[0]         # equals 0, lists are 0-indexed\n",
    "one = x[1]          # equals 1\n",
    "nine = x[-1]        # equals 9, 'Pythonic' for last element\n",
    "eight = x[-2]       # equals 8, 'Pythonic' for second to last element\n",
    "x[0] = -1           # now x is [-1, 1, 2, ..., 9]"
   ]
  },
  {
   "cell_type": "markdown",
   "id": "b12e7af2-19a7-4d55-ba79-a100de02e4ae",
   "metadata": {},
   "source": [
    "You can also use square brackets to *slice* lists \n",
    "* The slice i:j means all elements from i (inclusive) to j (not inclusive)\n",
    "* If you leave off the start of the slice, you'll slice from the beginning of the list\n",
    "* If you leave off the end of the slice, you'll slice to the end of the list"
   ]
  },
  {
   "cell_type": "code",
   "execution_count": 12,
   "id": "4058a3d3-eeec-492c-9ed4-44b1e0b5e238",
   "metadata": {},
   "outputs": [],
   "source": [
    "first_three = x[:3]              # [-1, 1, 2]\n",
    "three_to_end = x[3:]             # [3, 4, ..., 9]\n",
    "one_to_four = x[1:5]             # [1, 2, 3, 4]\n",
    "last_three = x[-3:]              # [7, 8, 9]\n",
    "without_first_and_last = x[1:-1] # [1, 2, ..., 8]\n",
    "copy_of_x = x[:]                 # [-1, 1, 2, ..., 9]"
   ]
  },
  {
   "cell_type": "markdown",
   "id": "9c4ee876-ae21-42b8-946b-5a0c22d78e3b",
   "metadata": {},
   "source": [
    "You can similarly slice strings and other \"sequential\" types"
   ]
  },
  {
   "cell_type": "markdown",
   "id": "18d6fa4f-0e09-4249-a969-c249c1a85c09",
   "metadata": {},
   "source": [
    "A slice can take a 3rd argument to indicate its *stride* which can be negative:"
   ]
  },
  {
   "cell_type": "code",
   "execution_count": 13,
   "id": "56ce53d9-0f50-4809-9c72-c9a7d7a8c6bf",
   "metadata": {},
   "outputs": [],
   "source": [
    "every_third = x[::3]          # [-1, 3, 6, 9]\n",
    "five_to_three = x[5:2:-1]     # [5, 4, 3]"
   ]
  },
  {
   "cell_type": "markdown",
   "id": "d7976dfe-6bb8-4c03-84a1-167c079f19a1",
   "metadata": {},
   "source": [
    "Python has an **in** operator to check for list membership:"
   ]
  },
  {
   "cell_type": "code",
   "execution_count": 14,
   "id": "f400c338-0dae-462e-98ad-0c4df38ec5b6",
   "metadata": {},
   "outputs": [
    {
     "data": {
      "text/plain": [
       "False"
      ]
     },
     "execution_count": 14,
     "metadata": {},
     "output_type": "execute_result"
    }
   ],
   "source": [
    "1 in [1, 2, 3]   # True\n",
    "0 in [1, 2, 3]   # False"
   ]
  },
  {
   "cell_type": "markdown",
   "id": "e65d2738-80d0-4f76-ae7e-c5d76379f704",
   "metadata": {},
   "source": [
    "If you want to modify a list in place you can use **extend** to add items from another collection"
   ]
  },
  {
   "cell_type": "code",
   "execution_count": 15,
   "id": "7e628327-d808-4267-9f45-30a61eb25f47",
   "metadata": {},
   "outputs": [],
   "source": [
    "x = [1, 2, 3]\n",
    "x.extend([4, 5, 6])     # x is now [1, 2, 3, 4, 5, 6]"
   ]
  },
  {
   "cell_type": "markdown",
   "id": "4f1b44c1-528e-4af8-b1e3-481752564120",
   "metadata": {},
   "source": [
    "If you don't want to modify x, you can use list addition"
   ]
  },
  {
   "cell_type": "code",
   "execution_count": 16,
   "id": "ea8e5b5f-b70c-4ddd-b274-23e894f83e90",
   "metadata": {},
   "outputs": [],
   "source": [
    "x = [1, 2, 3]\n",
    "y = x + [4 + 5 + 6]    # y is [1, 2, 3, 4, 5, 6], x is unchanged"
   ]
  },
  {
   "cell_type": "markdown",
   "id": "88a1339b-9458-4de2-80d5-0762be588330",
   "metadata": {},
   "source": [
    "It is often convenient to *unpack* lists when you know how many elements they contain:"
   ]
  },
  {
   "cell_type": "code",
   "execution_count": 17,
   "id": "68a435d8-6e5e-4cd4-b082-80fc20c04005",
   "metadata": {},
   "outputs": [],
   "source": [
    "x, y = [1, 2]     # now x is 1, y is 2"
   ]
  },
  {
   "cell_type": "markdown",
   "id": "63290ba4-68c5-4ca0-aecc-bd6cac139e73",
   "metadata": {},
   "source": [
    "A common idiom is to use an underscore for a value you're going to throw away:"
   ]
  },
  {
   "cell_type": "code",
   "execution_count": 18,
   "id": "b738eb4b-c84e-4eb1-8554-a0ecb6610dde",
   "metadata": {},
   "outputs": [],
   "source": [
    "_, y = [1, 2]"
   ]
  },
  {
   "cell_type": "code",
   "execution_count": null,
   "id": "06b1bfe8-3e89-491b-82e3-330e0d734439",
   "metadata": {},
   "outputs": [],
   "source": []
  }
 ],
 "metadata": {
  "kernelspec": {
   "display_name": "Python 3 (ipykernel)",
   "language": "python",
   "name": "python3"
  },
  "language_info": {
   "codemirror_mode": {
    "name": "ipython",
    "version": 3
   },
   "file_extension": ".py",
   "mimetype": "text/x-python",
   "name": "python",
   "nbconvert_exporter": "python",
   "pygments_lexer": "ipython3",
   "version": "3.9.12"
  }
 },
 "nbformat": 4,
 "nbformat_minor": 5
}

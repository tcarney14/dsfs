{
 "cells": [
  {
   "cell_type": "markdown",
   "id": "07a0fbc6-d861-4d01-bb2d-89dd32d4e521",
   "metadata": {},
   "source": [
    "### Strings"
   ]
  },
  {
   "cell_type": "markdown",
   "id": "a21c311a-061a-45bf-abc9-ce57f85295cc",
   "metadata": {},
   "source": [
    "*f-string* provides a simple way to substitute values into string"
   ]
  },
  {
   "cell_type": "code",
   "execution_count": 1,
   "id": "0a15990c-f660-4dc2-bfe7-d825adf8dd49",
   "metadata": {},
   "outputs": [],
   "source": [
    "first_name = \"Tucker\"\n",
    "last_name = \"Carney\""
   ]
  },
  {
   "cell_type": "code",
   "execution_count": 4,
   "id": "43571fa7-1be6-4503-b424-e071ddef84de",
   "metadata": {},
   "outputs": [
    {
     "name": "stdout",
     "output_type": "stream",
     "text": [
      "Tucker Carney\n",
      "Tucker Carney\n"
     ]
    }
   ],
   "source": [
    "full_name1 = first_name + \" \" + last_name #string addition\n",
    "full_name2 = \"{0} {1}\".format(first_name, last_name) #string.format\n",
    "\n",
    "print(full_name1)\n",
    "print(full_name2)"
   ]
  },
  {
   "cell_type": "markdown",
   "id": "4a00cbb1-51d9-4306-bb5e-88fdedc25222",
   "metadata": {},
   "source": [
    "but the f-string way is much less unwieldy"
   ]
  },
  {
   "cell_type": "code",
   "execution_count": 5,
   "id": "a83e850b-0bae-413f-83c0-ae13e0a19b12",
   "metadata": {},
   "outputs": [
    {
     "name": "stdout",
     "output_type": "stream",
     "text": [
      "Tucker Carney\n"
     ]
    }
   ],
   "source": [
    "full_name3 = f\"{first_name} {last_name}\"\n",
    "print(full_name3)"
   ]
  },
  {
   "cell_type": "markdown",
   "id": "4218c1d0-5a87-4807-a4af-e724f5b98bce",
   "metadata": {},
   "source": [
    "### Exceptions"
   ]
  },
  {
   "cell_type": "code",
   "execution_count": 6,
   "id": "48373af2-0969-4eb5-b6c5-faecf5596e5a",
   "metadata": {},
   "outputs": [
    {
     "name": "stdout",
     "output_type": "stream",
     "text": [
      "cannot divide by zero\n"
     ]
    }
   ],
   "source": [
    "try:\n",
    "    print(0 / 0)\n",
    "except ZeroDivisionError:\n",
    "    print(\"cannot divide by zero\")"
   ]
  },
  {
   "cell_type": "markdown",
   "id": "1f2b9820-1e42-4c6c-b824-2a5c4cb3abaf",
   "metadata": {},
   "source": [
    "### Lists"
   ]
  },
  {
   "cell_type": "code",
   "execution_count": 9,
   "id": "b0b7f5b9-e350-403a-9682-967387474db6",
   "metadata": {},
   "outputs": [],
   "source": [
    "integer_list = [1, 2, 3]\n",
    "heterogenous_list = [\"string\", 0.1, True]\n",
    "list_of_lists = [integer_list, heterogenous_list, []]"
   ]
  },
  {
   "cell_type": "code",
   "execution_count": 10,
   "id": "2e8ba83e-0454-496c-96dd-d2ba44d66724",
   "metadata": {},
   "outputs": [],
   "source": [
    "list_length = len(integer_list) # equals 3\n",
    "list_sum = sum(integer_list) # equals 6"
   ]
  },
  {
   "cell_type": "markdown",
   "id": "df7b5927-05fe-42bd-a8d5-c7478b283517",
   "metadata": {},
   "source": [
    "you can get the *n*th element of a list with square brackets"
   ]
  },
  {
   "cell_type": "code",
   "execution_count": 11,
   "id": "e7a7e221-2291-491b-9d0d-89701f996d82",
   "metadata": {},
   "outputs": [],
   "source": [
    "x = [0, 1, 2, 3, 4, 5, 6, 7, 8, 9]\n",
    "\n",
    "zero = x[0]         # equals 0, lists are 0-indexed\n",
    "one = x[1]          # equals 1\n",
    "nine = x[-1]        # equals 9, 'Pythonic' for last element\n",
    "eight = x[-2]       # equals 8, 'Pythonic' for second to last element\n",
    "x[0] = -1           # now x is [-1, 1, 2, ..., 9]"
   ]
  },
  {
   "cell_type": "markdown",
   "id": "b12e7af2-19a7-4d55-ba79-a100de02e4ae",
   "metadata": {},
   "source": [
    "You can also use square brackets to *slice* lists \n",
    "* The slice i:j means all elements from i (inclusive) to j (not inclusive)\n",
    "* If you leave off the start of the slice, you'll slice from the beginning of the list\n",
    "* If you leave off the end of the slice, you'll slice to the end of the list"
   ]
  },
  {
   "cell_type": "code",
   "execution_count": 12,
   "id": "4058a3d3-eeec-492c-9ed4-44b1e0b5e238",
   "metadata": {},
   "outputs": [],
   "source": [
    "first_three = x[:3]              # [-1, 1, 2]\n",
    "three_to_end = x[3:]             # [3, 4, ..., 9]\n",
    "one_to_four = x[1:5]             # [1, 2, 3, 4]\n",
    "last_three = x[-3:]              # [7, 8, 9]\n",
    "without_first_and_last = x[1:-1] # [1, 2, ..., 8]\n",
    "copy_of_x = x[:]                 # [-1, 1, 2, ..., 9]"
   ]
  },
  {
   "cell_type": "markdown",
   "id": "9c4ee876-ae21-42b8-946b-5a0c22d78e3b",
   "metadata": {},
   "source": [
    "You can similarly slice strings and other \"sequential\" types"
   ]
  },
  {
   "cell_type": "markdown",
   "id": "18d6fa4f-0e09-4249-a969-c249c1a85c09",
   "metadata": {},
   "source": [
    "A slice can take a 3rd argument to indicate its *stride* which can be negative:"
   ]
  },
  {
   "cell_type": "code",
   "execution_count": 13,
   "id": "56ce53d9-0f50-4809-9c72-c9a7d7a8c6bf",
   "metadata": {},
   "outputs": [],
   "source": [
    "every_third = x[::3]          # [-1, 3, 6, 9]\n",
    "five_to_three = x[5:2:-1]     # [5, 4, 3]"
   ]
  },
  {
   "cell_type": "markdown",
   "id": "d7976dfe-6bb8-4c03-84a1-167c079f19a1",
   "metadata": {},
   "source": [
    "Python has an **in** operator to check for list membership:"
   ]
  },
  {
   "cell_type": "code",
   "execution_count": 14,
   "id": "f400c338-0dae-462e-98ad-0c4df38ec5b6",
   "metadata": {},
   "outputs": [
    {
     "data": {
      "text/plain": [
       "False"
      ]
     },
     "execution_count": 14,
     "metadata": {},
     "output_type": "execute_result"
    }
   ],
   "source": [
    "1 in [1, 2, 3]   # True\n",
    "0 in [1, 2, 3]   # False"
   ]
  },
  {
   "cell_type": "markdown",
   "id": "e65d2738-80d0-4f76-ae7e-c5d76379f704",
   "metadata": {},
   "source": [
    "If you want to modify a list in place you can use **extend** to add items from another collection"
   ]
  },
  {
   "cell_type": "code",
   "execution_count": 15,
   "id": "7e628327-d808-4267-9f45-30a61eb25f47",
   "metadata": {},
   "outputs": [],
   "source": [
    "x = [1, 2, 3]\n",
    "x.extend([4, 5, 6])     # x is now [1, 2, 3, 4, 5, 6]"
   ]
  },
  {
   "cell_type": "markdown",
   "id": "4f1b44c1-528e-4af8-b1e3-481752564120",
   "metadata": {},
   "source": [
    "If you don't want to modify x, you can use list addition"
   ]
  },
  {
   "cell_type": "code",
   "execution_count": 16,
   "id": "ea8e5b5f-b70c-4ddd-b274-23e894f83e90",
   "metadata": {},
   "outputs": [],
   "source": [
    "x = [1, 2, 3]\n",
    "y = x + [4 + 5 + 6]    # y is [1, 2, 3, 4, 5, 6], x is unchanged"
   ]
  },
  {
   "cell_type": "markdown",
   "id": "88a1339b-9458-4de2-80d5-0762be588330",
   "metadata": {},
   "source": [
    "It is often convenient to *unpack* lists when you know how many elements they contain:"
   ]
  },
  {
   "cell_type": "code",
   "execution_count": 17,
   "id": "68a435d8-6e5e-4cd4-b082-80fc20c04005",
   "metadata": {},
   "outputs": [],
   "source": [
    "x, y = [1, 2]     # now x is 1, y is 2"
   ]
  },
  {
   "cell_type": "markdown",
   "id": "63290ba4-68c5-4ca0-aecc-bd6cac139e73",
   "metadata": {},
   "source": [
    "A common idiom is to use an underscore for a value you're going to throw away:"
   ]
  },
  {
   "cell_type": "code",
   "execution_count": 18,
   "id": "b738eb4b-c84e-4eb1-8554-a0ecb6610dde",
   "metadata": {},
   "outputs": [],
   "source": [
    "_, y = [1, 2]"
   ]
  },
  {
   "cell_type": "markdown",
   "id": "71ed6f69-65f3-466f-8a8b-ea8018fa8d25",
   "metadata": {},
   "source": [
    "### Tuples"
   ]
  },
  {
   "cell_type": "markdown",
   "id": "2beb1c90-98bb-446b-a294-1ab84fe9a1d8",
   "metadata": {},
   "source": [
    "Tuples are like immutable lists"
   ]
  },
  {
   "cell_type": "code",
   "execution_count": 1,
   "id": "1ab4a46d-aeab-45e9-af23-be3c8cd1e862",
   "metadata": {},
   "outputs": [
    {
     "name": "stdout",
     "output_type": "stream",
     "text": [
      "cannot modify a tuple\n"
     ]
    }
   ],
   "source": [
    "my_list = [1, 2]\n",
    "my_tuple = (1, 2)\n",
    "\n",
    "my_list[1] = 3\n",
    "\n",
    "try:\n",
    "    my_tuple[1] = 3\n",
    "except TypeError:\n",
    "    print(\"cannot modify a tuple\")"
   ]
  },
  {
   "cell_type": "code",
   "execution_count": 3,
   "id": "24a05369-6ee3-44d3-a213-8f6071d6ec06",
   "metadata": {},
   "outputs": [],
   "source": [
    "#multiple assignment\n",
    "x, y = 1, 2\n",
    "#pythonic way to swap elements\n",
    "x, y = y, x"
   ]
  },
  {
   "cell_type": "markdown",
   "id": "aba11d00-88c9-46e5-ab42-5cb9df0ed2a9",
   "metadata": {},
   "source": [
    "### Dictionaries"
   ]
  },
  {
   "cell_type": "code",
   "execution_count": 4,
   "id": "8f1c88bb-7c16-4c64-b912-948d03a4a24f",
   "metadata": {},
   "outputs": [],
   "source": [
    "empty_dict = {}                  # Pythonic\n",
    "empty_dict2 = dict()             # less Pythonic\n",
    "grades = {\"Joel\": 80, \"Tim\": 95} # dictionary literal"
   ]
  },
  {
   "cell_type": "markdown",
   "id": "52e99e02-0881-4ec6-bda6-c43564f7364f",
   "metadata": {},
   "source": [
    "check for the existence of a key using **in**"
   ]
  },
  {
   "cell_type": "code",
   "execution_count": 5,
   "id": "35844981-1fb5-4846-9074-05e3a3ef94a4",
   "metadata": {},
   "outputs": [],
   "source": [
    "joel_has_grade = \"Joel\" in grades   # True\n",
    "kate_has_grade = \"Kate\" in grades   # False"
   ]
  },
  {
   "cell_type": "markdown",
   "id": "148ea773-3aca-4396-acaf-fc292338d00d",
   "metadata": {},
   "source": [
    "use **get** method to return a default value (instead of raising an exception)"
   ]
  },
  {
   "cell_type": "code",
   "execution_count": 6,
   "id": "1e675881-b05c-40c1-a2e9-a305eda0f3dd",
   "metadata": {},
   "outputs": [],
   "source": [
    "joels_grade = grades.get(\"Joel\", 0)  # equals 80\n",
    "kates_grade = grades.get(\"Kate\", 0)  # equals 0\n",
    "no_ones_grade = grades.get(\"No one\") # equals None"
   ]
  },
  {
   "cell_type": "markdown",
   "id": "402c815f-21e6-4949-be3c-64b33647bea7",
   "metadata": {},
   "source": [
    "use dictionaries to represent structured data"
   ]
  },
  {
   "cell_type": "code",
   "execution_count": 9,
   "id": "1b29db90-5eb7-45b8-917e-bfa127f5dd93",
   "metadata": {},
   "outputs": [],
   "source": [
    "tweet = {\n",
    "    \"user\": \"joelgrus\",\n",
    "    \"text\" : \"Data Science is Awesome\",\n",
    "    \"retweet_count\": 100,\n",
    "    \"hashtags\": [\"#data\", \"#science\", \"#datascience\", \"#awesome\", \"#yolo\"]\n",
    "}"
   ]
  },
  {
   "cell_type": "code",
   "execution_count": 11,
   "id": "bed3e3bb-08fc-4dd2-a3e4-ac33dae4d06d",
   "metadata": {},
   "outputs": [
    {
     "data": {
      "text/plain": [
       "True"
      ]
     },
     "execution_count": 11,
     "metadata": {},
     "output_type": "execute_result"
    }
   ],
   "source": [
    "tweet_keys = tweet.keys()      # iterable for the keys\n",
    "tweet_values = tweet.values()  # iterable for the values\n",
    "tweet_items = tweet.items()    # iterable for the (key, value) tuples\n",
    "\n",
    "\"user\" in tweet_keys           # True, but not Pythonic\n",
    "\"user\" in tweet                # Pythonic way for checking for keys\n",
    "\"joelgrus\" in tweet_values     # True (slow but the only way to check)"
   ]
  },
  {
   "cell_type": "markdown",
   "id": "60cd96c6-3cd4-4467-98fe-7b7db533cc85",
   "metadata": {},
   "source": [
    "### defaultdict"
   ]
  },
  {
   "cell_type": "markdown",
   "id": "11a61632-4ef3-447e-850c-0120821e7648",
   "metadata": {},
   "source": [
    "like dictionaries, except when you try to look up a key it doesn't contain, it first adds a value to it using a provided argument"
   ]
  },
  {
   "cell_type": "code",
   "execution_count": 14,
   "id": "a809c060-1b80-44bf-a0da-116a2598d309",
   "metadata": {},
   "outputs": [],
   "source": [
    "from collections import defaultdict\n",
    "document = []\n",
    "\n",
    "word_counts = defaultdict(int)      # int() produces 0\n",
    "for word in document:\n",
    "    word_count += 1"
   ]
  },
  {
   "cell_type": "markdown",
   "id": "df503082-678a-456c-9761-c1cb7cad4f5f",
   "metadata": {},
   "source": [
    "can also be useful with **list** or **dict** or custom functions"
   ]
  },
  {
   "cell_type": "code",
   "execution_count": 17,
   "id": "bdbe79b0-82d0-47a9-964d-a5b2129caf7a",
   "metadata": {},
   "outputs": [],
   "source": [
    "dd_list = defaultdict(list)              # list() produces an empty list\n",
    "dd_list[2].append(1)                     # now dd_list contains {2: [1]}\n",
    "\n",
    "dd_dict = defaultdict(dict)              # dict() produces an empty list\n",
    "dd_dict[\"Joel\"][\"City\"] = \"Seattle\"      # {\"Joel\": {\"City\": \"Seattle\"}}\n",
    "\n",
    "dd_pair = defaultdict(lambda: [0, 0])\n",
    "dd_pair[2][1] = 1                        # now dd_pair contains {2: [0, 1]}"
   ]
  },
  {
   "cell_type": "markdown",
   "id": "d55c6915-a57b-415c-8987-11b595823b19",
   "metadata": {},
   "source": [
    "### Counters"
   ]
  },
  {
   "cell_type": "markdown",
   "id": "60fab567-8b37-4233-a775-6e7ff61b37d9",
   "metadata": {},
   "source": [
    "a **Counter** turns a sequence of values into **defaultdict(int)**-like object mapping keys to counts"
   ]
  },
  {
   "cell_type": "code",
   "execution_count": 18,
   "id": "1b7668cd-8358-4467-b9df-c91fa9a27156",
   "metadata": {},
   "outputs": [],
   "source": [
    "from collections import Counter\n",
    "c = Counter([0, 1, 2, 0])            # c is (basically) {0: 2, 1: 1, 2: 1}"
   ]
  },
  {
   "cell_type": "markdown",
   "id": "3d34db08-7f79-443b-adde-806bb38a66ec",
   "metadata": {},
   "source": [
    "gives a very simple solution to the word_counts problem:"
   ]
  },
  {
   "cell_type": "code",
   "execution_count": 19,
   "id": "b35bd187-6cba-44d3-a0a6-ad70109865f8",
   "metadata": {},
   "outputs": [],
   "source": [
    "word_counts = Counter(document)"
   ]
  },
  {
   "cell_type": "code",
   "execution_count": 20,
   "id": "8bf7a736-9ed2-4d6e-955a-c749c7815c50",
   "metadata": {},
   "outputs": [],
   "source": [
    "# print the 10 most common words and their counts:\n",
    "\n",
    "for word, count in word_counts.most_common(10):\n",
    "    print(word, count)"
   ]
  },
  {
   "cell_type": "markdown",
   "id": "72bb1990-91d6-47b0-9491-b7a1396dcaf6",
   "metadata": {},
   "source": [
    "### Sets"
   ]
  },
  {
   "cell_type": "markdown",
   "id": "5556f792-14e0-4bf5-9897-9efc3b6d2617",
   "metadata": {},
   "source": [
    "represents a collection of *distinct* elements"
   ]
  },
  {
   "cell_type": "code",
   "execution_count": 22,
   "id": "89b37fff-8840-4886-9a86-8433b95935d6",
   "metadata": {},
   "outputs": [],
   "source": [
    "primes_below_ten = {2, 3, 5, 7}"
   ]
  },
  {
   "cell_type": "code",
   "execution_count": 23,
   "id": "736b7a26-b8be-4d43-b275-a7a4b1fb6137",
   "metadata": {},
   "outputs": [],
   "source": [
    "s = set()     # empty set\n",
    "s.add(1)      # s is now {1}\n",
    "s.add(2)      # s is now {1, 2}\n",
    "s.add(2)      # s is still {1, 2}"
   ]
  },
  {
   "cell_type": "markdown",
   "id": "22beb861-dc51-4b70-8571-7338d99b37f7",
   "metadata": {},
   "source": [
    "* sets have very fast **in** operations\n",
    "* useful for finding all distinct items in a collection"
   ]
  },
  {
   "cell_type": "code",
   "execution_count": 24,
   "id": "c1a7ec07-3cf8-4008-9fec-6231ad216aad",
   "metadata": {},
   "outputs": [],
   "source": [
    "item_list = [1, 2, 3, 1, 2, 3]\n",
    "num_items = len(item_list)          # 6\n",
    "item_set = set(item_list)           # {1, 2, 3}\n",
    "num_distinct_items = len(item_set)  # 3"
   ]
  },
  {
   "cell_type": "markdown",
   "id": "9045bc60-7546-47ae-9280-619f8a6ffc46",
   "metadata": {},
   "source": [
    "### Control Flow"
   ]
  },
  {
   "cell_type": "code",
   "execution_count": 25,
   "id": "d9ea8b11-c179-4abc-9498-2cff2dc1c828",
   "metadata": {},
   "outputs": [],
   "source": [
    "#ternary if-then-else one liner\n",
    "parity = \"even\" if x % 2 == 0 else \"odd\""
   ]
  },
  {
   "cell_type": "code",
   "execution_count": 26,
   "id": "ea9dd7a1-8acf-4c50-ae36-6f7c680d55ba",
   "metadata": {},
   "outputs": [
    {
     "name": "stdout",
     "output_type": "stream",
     "text": [
      "0 is less than 10\n",
      "1 is less than 10\n",
      "2 is less than 10\n",
      "3 is less than 10\n",
      "4 is less than 10\n",
      "5 is less than 10\n",
      "6 is less than 10\n",
      "7 is less than 10\n",
      "8 is less than 10\n",
      "9 is less than 10\n"
     ]
    }
   ],
   "source": [
    "# for in loops\n",
    "for x in range(10):                #range (10) is the numbers 0, 1, 2, ..., 9\n",
    "    print(f\"{x} is less than 10\")"
   ]
  },
  {
   "cell_type": "markdown",
   "id": "da892f21-91e0-422e-b4d0-5611d2bfd2b5",
   "metadata": {},
   "source": [
    "### Truthiness"
   ]
  },
  {
   "cell_type": "code",
   "execution_count": null,
   "id": "9f244a25-357d-4232-aca2-7cc2e7db8321",
   "metadata": {},
   "outputs": [],
   "source": [
    "the following are all \"falsy\" in Python\n",
    "* \n"
   ]
  }
 ],
 "metadata": {
  "kernelspec": {
   "display_name": "Python 3",
   "language": "python",
   "name": "python3"
  },
  "language_info": {
   "codemirror_mode": {
    "name": "ipython",
    "version": 3
   },
   "file_extension": ".py",
   "mimetype": "text/x-python",
   "name": "python",
   "nbconvert_exporter": "python",
   "pygments_lexer": "ipython3",
   "version": "3.6.13"
  }
 },
 "nbformat": 4,
 "nbformat_minor": 5
}
